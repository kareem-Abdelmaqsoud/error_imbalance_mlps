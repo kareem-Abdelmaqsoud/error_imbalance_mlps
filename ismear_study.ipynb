{
 "cells": [
  {
   "cell_type": "code",
   "execution_count": 2,
   "metadata": {},
   "outputs": [],
   "source": [
    "# from ocdata.utils.vasp import write_vasp_input_files\n",
    "import pickle\n",
    "import pandas as pd \n",
    "import numpy as np\n",
    "from ase.io import read\n",
    "import re\n",
    "import warnings\n",
    "warnings.filterwarnings(\"ignore\")"
   ]
  },
  {
   "cell_type": "code",
   "execution_count": 3,
   "metadata": {},
   "outputs": [],
   "source": [
    "## get mappings of sid (a random number) to systems (adslabs) that are in the OC20 dataset \n",
    "with open(\"oc20_data_mapping.pkl\", \"rb\") as input_file:\n",
    "    mappings = pickle.load(input_file)\n",
    "with open(\"mapping_adslab_slab.pkl\", \"rb\") as input_file:\n",
    "    slab_adslab_mappings = pickle.load(input_file)"
   ]
  },
  {
   "cell_type": "code",
   "execution_count": 4,
   "metadata": {},
   "outputs": [],
   "source": [
    "## Adeesh data from the perspecive paper\n",
    "df = pd.read_csv(\"gemnet-relaxations.csv\", index_col=0)\n",
    "df[\"error\"] = np.abs(df[\"energy dE [eV]\"] - df[\"genmet_T_predE\"])\n",
    "# sort error column in descending order\n",
    "df.sort_values(by=['error'], inplace=True, ascending=False)"
   ]
  },
  {
   "cell_type": "code",
   "execution_count": 5,
   "metadata": {},
   "outputs": [],
   "source": [
    "surfaces = []\n",
    "for id in df[\"ID\"].values:\n",
    "    surfaces.append(mappings[id][\"bulk_symbols\"])\n",
    "df[\"bulk_symbols\"] = surfaces\n",
    "nonmetals_df = df.query(\"material_type == 'nonmetals'\")"
   ]
  },
  {
   "cell_type": "markdown",
   "metadata": {},
   "source": [
    "### Pick Gallium Nitride and Silicon Phosphide as examples of semiconductors to investigate\n",
    "### will check ISMEAR on the bare slabs because it is cheaper\n",
    "### Use Gaussian smearing ISMEAR=0 with SIGMA=0.05"
   ]
  },
  {
   "cell_type": "code",
   "execution_count": 6,
   "metadata": {},
   "outputs": [
    {
     "data": {
      "text/plain": [
       "{'bulk_id': 315,\n",
       " 'ads_id': 78,\n",
       " 'bulk_mpid': 'mp-830',\n",
       " 'bulk_symbols': 'NGa',\n",
       " 'ads_symbols': '*NO3',\n",
       " 'miller_index': (2, 1, 1),\n",
       " 'shift': 0.062,\n",
       " 'top': False,\n",
       " 'adsorption_site': ((3.98, 2.11, 18.75),),\n",
       " 'class': 2,\n",
       " 'anomaly': 0}"
      ]
     },
     "execution_count": 6,
     "metadata": {},
     "output_type": "execute_result"
    }
   ],
   "source": [
    "sid  = nonmetals_df.query(\"bulk_symbols=='NGa'\").iloc[0][\"ID\"]\n",
    "slab_sid= slab_adslab_mappings[sid]\n",
    "mappings[sid]"
   ]
  },
  {
   "cell_type": "code",
   "execution_count": 7,
   "metadata": {},
   "outputs": [
    {
     "data": {
      "text/plain": [
       "-493.1095156"
      ]
     },
     "execution_count": 7,
     "metadata": {},
     "output_type": "execute_result"
    }
   ],
   "source": [
    "atoms = read(f\"/home/jovyan/shared-datasets/OC20/trajs/slabs/trajectories_all_02_05/{slab_sid}.traj\", -1)\n",
    "atoms.get_potential_energy()"
   ]
  },
  {
   "cell_type": "code",
   "execution_count": 8,
   "metadata": {},
   "outputs": [
    {
     "data": {
      "text/plain": [
       "-493.13173391"
      ]
     },
     "execution_count": 8,
     "metadata": {},
     "output_type": "execute_result"
    }
   ],
   "source": [
    "new_atoms = read(\"/home/jovyan/shared-scratch/kabdelma/oc20_data_quality_project/oc20_analysis/ismear_study/gan/OUTCAR\", -1)\n",
    "new_atoms.get_potential_energy()"
   ]
  },
  {
   "cell_type": "code",
   "execution_count": 9,
   "metadata": {},
   "outputs": [
    {
     "data": {
      "text/plain": [
       "0.022218309999971098"
      ]
     },
     "execution_count": 9,
     "metadata": {},
     "output_type": "execute_result"
    }
   ],
   "source": [
    "np.abs(atoms.get_potential_energy() - new_atoms.get_potential_energy())"
   ]
  },
  {
   "cell_type": "code",
   "execution_count": 10,
   "metadata": {},
   "outputs": [],
   "source": [
    "# VASP_FLAGS = {\n",
    "#     \"ismear\":0,\n",
    "#     \"sigma\":0.05,\n",
    "#     \"ibrion\": 2,\n",
    "#     \"nsw\": 2000,\n",
    "#     \"isif\": 0,\n",
    "#     \"isym\": 0,\n",
    "#     \"lreal\": \"Auto\",\n",
    "#     \"ediffg\": -0.03,\n",
    "#     \"symprec\": 1e-10,\n",
    "#     \"encut\": 350.0,\n",
    "#     \"laechg\": True,\n",
    "#     \"lwave\": False,\n",
    "#     \"ncore\": 4,\n",
    "#     \"gga\": \"RP\",\n",
    "#     \"pp\": \"PBE\",\n",
    "#     \"xc\": \"PBE\",\n",
    "# }\n",
    "# vasp_path = \"/home/jovyan/shared-scratch/kabdelma/oc20_data_quality_project/oc20_analysis/ismear_study/gan\"\n",
    "# write_vasp_input_files(atoms, vasp_flags =VASP_FLAGS, outdir = vasp_path)"
   ]
  },
  {
   "cell_type": "code",
   "execution_count": 11,
   "metadata": {},
   "outputs": [
    {
     "data": {
      "text/plain": [
       "{'bulk_id': 2542,\n",
       " 'ads_id': 7,\n",
       " 'bulk_mpid': 'mp-21065',\n",
       " 'bulk_symbols': 'Si4P8',\n",
       " 'ads_symbols': '*CHO',\n",
       " 'miller_index': (2, 2, 1),\n",
       " 'shift': 0.185,\n",
       " 'top': False,\n",
       " 'adsorption_site': ((0.32, 9.08, 25.76),),\n",
       " 'class': 2,\n",
       " 'anomaly': 1}"
      ]
     },
     "execution_count": 11,
     "metadata": {},
     "output_type": "execute_result"
    }
   ],
   "source": [
    "sid = nonmetals_df.query(\"bulk_symbols=='Si4P8'\").iloc[0][\"ID\"]\n",
    "slab_sid= slab_adslab_mappings[sid]\n",
    "mappings[sid]"
   ]
  },
  {
   "cell_type": "code",
   "execution_count": 12,
   "metadata": {},
   "outputs": [
    {
     "data": {
      "text/plain": [
       "-298.79240844"
      ]
     },
     "execution_count": 12,
     "metadata": {},
     "output_type": "execute_result"
    }
   ],
   "source": [
    "atoms = read(f\"/home/jovyan/shared-datasets/OC20/trajs/slabs/trajectories_all_02_05/{slab_sid}.traj\", -1)\n",
    "atoms.get_potential_energy()"
   ]
  },
  {
   "cell_type": "code",
   "execution_count": 13,
   "metadata": {},
   "outputs": [
    {
     "data": {
      "text/plain": [
       "-298.79697237"
      ]
     },
     "execution_count": 13,
     "metadata": {},
     "output_type": "execute_result"
    }
   ],
   "source": [
    "new_atoms = read(\"/home/jovyan/shared-scratch/kabdelma/oc20_data_quality_project/oc20_analysis/ismear_study/sip/OUTCAR\", -1)\n",
    "new_atoms.get_potential_energy()"
   ]
  },
  {
   "cell_type": "code",
   "execution_count": 14,
   "metadata": {},
   "outputs": [
    {
     "data": {
      "text/plain": [
       "0.004563930000017535"
      ]
     },
     "execution_count": 14,
     "metadata": {},
     "output_type": "execute_result"
    }
   ],
   "source": [
    "np.abs(atoms.get_potential_energy() - new_atoms.get_potential_energy())"
   ]
  },
  {
   "cell_type": "code",
   "execution_count": 7,
   "metadata": {},
   "outputs": [],
   "source": [
    "# VASP_FLAGS = {\n",
    "#     \"ismear\":0,\n",
    "#     \"sigma\":0.05,\n",
    "#     \"ibrion\": 2,\n",
    "#     \"nsw\": 2000,\n",
    "#     \"isif\": 0,\n",
    "#     \"isym\": 0,\n",
    "#     \"lreal\": \"Auto\",\n",
    "#     \"ediffg\": -0.03,\n",
    "#     \"symprec\": 1e-10,\n",
    "#     \"encut\": 350.0,\n",
    "#     \"laechg\": True,\n",
    "#     \"lwave\": False,\n",
    "#     \"ncore\": 4,\n",
    "#     \"gga\": \"RP\",\n",
    "#     \"pp\": \"PBE\",\n",
    "#     \"xc\": \"PBE\",\n",
    "# }\n",
    "# vasp_path = \"/home/jovyan/shared-scratch/kabdelma/oc20_data_quality_project/oc20_analysis/ismear_study/sip\"\n",
    "# write_vasp_input_files(atoms, vasp_flags =VASP_FLAGS, outdir = vasp_path)"
   ]
  },
  {
   "cell_type": "code",
   "execution_count": 42,
   "metadata": {},
   "outputs": [],
   "source": [
    "# # Step 1: Extract unique elements from the bulk_symbols column of intermetallic compounds\n",
    "# nonmetals_elements = []\n",
    "# for i in range(len(nonmetals_df)):\n",
    "#     nonmetals_elements += list(np.unique(np.array(re.findall('[A-Z][a-z]?', f'{nonmetals_df.iloc[i][\"bulk_symbols\"]}'))))\n",
    "\n",
    "# nonmetals_element_counts = []\n",
    "# for i in range(len(nonmetals_df)):\n",
    "#     nonmetals_element_counts.append(len(list(np.unique(np.array(re.findall('[A-Z][a-z]?', f'{nonmetals_df.iloc[i][\"bulk_symbols\"]}'))))))\n",
    "\n",
    "# # Remove duplicates and sort the elements\n",
    "# unique_nonmetals_elements = sorted(list(set(nonmetals_elements)))\n",
    "# bulk_element_encoding = []\n",
    "# for bulk in nonmetals_df[\"bulk_symbols\"].values:\n",
    "#     elements_encoding = []\n",
    "#     for element in unique_nonmetals_elements:\n",
    "#         if element in np.unique(np.array(re.findall('[A-Z][a-z]?', f'{bulk}'))):\n",
    "#             elements_encoding.append(1)\n",
    "#         else: \n",
    "#             elements_encoding.append(0)\n",
    "#     bulk_element_encoding.append(elements_encoding)\n",
    "\n",
    "# # Create a DataFrame from bulk_element_encoding with column names as unique_intermetallics_elements\n",
    "# bulk_elements_encodings_df = pd.DataFrame(bulk_element_encoding, columns=unique_nonmetals_elements)\n",
    "# # Reset the index of bulk_elements_encodings_df\n",
    "# bulk_elements_encodings_df.reset_index(drop=True, inplace=True)\n",
    "# # Concatenate bulk_elements_encodings_df with the existing DataFrame df\n",
    "# nonmetals_df = pd.concat([nonmetals_df.reset_index(drop=True), bulk_elements_encodings_df], axis=1)\n",
    "# nonmetals_df"
   ]
  },
  {
   "cell_type": "code",
   "execution_count": 41,
   "metadata": {},
   "outputs": [],
   "source": [
    "# nonmetals_df.query(\"Ga==1 & N ==1\")[20:50]\n",
    "# nonmetals_df.query(\"Si==1 & P ==1\")[20:50]"
   ]
  }
 ],
 "metadata": {
  "kernelspec": {
   "display_name": "base",
   "language": "python",
   "name": "python3"
  },
  "language_info": {
   "codemirror_mode": {
    "name": "ipython",
    "version": 3
   },
   "file_extension": ".py",
   "mimetype": "text/x-python",
   "name": "python",
   "nbconvert_exporter": "python",
   "pygments_lexer": "ipython3",
   "version": "3.9.15"
  }
 },
 "nbformat": 4,
 "nbformat_minor": 2
}
