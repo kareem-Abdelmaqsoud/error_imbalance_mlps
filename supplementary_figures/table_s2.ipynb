{
 "cells": [
  {
   "cell_type": "code",
   "execution_count": 1,
   "metadata": {},
   "outputs": [],
   "source": [
    "import pickle\n",
    "import numpy as np\n",
    "import pandas as pd\n",
    "import random\n",
    "from tqdm import tqdm\n",
    "import warnings\n",
    "warnings.filterwarnings(\"ignore\")"
   ]
  },
  {
   "cell_type": "code",
   "execution_count": 3,
   "metadata": {},
   "outputs": [],
   "source": [
    "df_val_id = pd.read_csv(\"../val_sets_with_anomalies/val_id_30k_anomalies.csv\", index_col=0)\n",
    "df_ood_cat = pd.read_csv(\"../val_sets_with_anomalies/val_ood_cat_30k_anomalies.csv\", index_col=0)\n",
    "df_ood_ads = pd.read_csv(\"../val_sets_with_anomalies/val_ood_ads_30k_anomalies.csv\", index_col=0)\n",
    "df_ood_both = pd.read_csv(\"../val_sets_with_anomalies/val_ood_both_30k_anomalies.csv\", index_col=0)"
   ]
  },
  {
   "cell_type": "markdown",
   "metadata": {},
   "source": [
    "# GemNet-OC"
   ]
  },
  {
   "cell_type": "markdown",
   "metadata": {},
   "source": [
    "### We do this random sampling to make sure that we comparing the metrics of the same number of systems before and after removing the anomalies."
   ]
  },
  {
   "cell_type": "code",
   "execution_count": 12,
   "metadata": {},
   "outputs": [],
   "source": [
    "random.seed(10)\n",
    "df_val_id_sample = df_val_id.iloc[random.sample(range(0,len(df_val_id)), len(df_val_id.query(\"surface_anomalies!=1\")))]\n",
    "df_ood_cat_sample = df_ood_cat.iloc[random.sample(range(0,len(df_ood_cat)), len(df_ood_cat.query(\"surface_anomalies!=1\")))]\n",
    "df_ood_ads_sample = df_ood_ads.iloc[random.sample(range(0,len(df_ood_ads)), len(df_ood_ads.query(\"surface_anomalies!=1\")))]\n",
    "df_ood_both_sample = df_ood_both.iloc[random.sample(range(0,len(df_ood_both)), len(df_ood_both.query(\"surface_anomalies!=1\")))]\n",
    "# val id\n",
    "val_id_dict = {\"all\":np.mean(np.abs(df_val_id_sample[\"val_id_goc\"] - df_val_id_sample[\"ref_energies\"])),\n",
    "              \"remove ads anomaly\":np.mean(np.abs(df_val_id.query(\"adsorbate_dissociated_anomalies!=1&adsorbate_desorbed_anomalies!=1\")[\"val_id_goc\"] \\\n",
    "            - df_val_id.query(\"adsorbate_dissociated_anomalies!=1&adsorbate_desorbed_anomalies!=1\")[\"ref_energies\"])),}\n",
    "# val ood cat\n",
    "val_ood_cat_dict = {\"all\":np.mean(np.abs(df_ood_cat_sample[\"val_ood_cat_goc\"] - df_ood_cat_sample[\"ref_energies\"])),\n",
    "              \"remove ads anomaly\":np.mean(np.abs(df_ood_cat.query(\"adsorbate_dissociated_anomalies!=1&adsorbate_desorbed_anomalies!=1\")[\"val_ood_cat_goc\"] \\\n",
    "            - df_ood_cat.query(\"adsorbate_dissociated_anomalies!=1&adsorbate_desorbed_anomalies!=1\")[\"ref_energies\"])),}\n",
    "# val ood ads\n",
    "val_ood_ads_dict = {\"all\":np.mean(np.abs(df_ood_ads_sample[\"val_ood_ads_goc\"] - df_ood_ads_sample[\"ref_energies\"])),\n",
    "              \"remove ads anomaly\":np.mean(np.abs(df_ood_ads.query(\"adsorbate_dissociated_anomalies!=1&adsorbate_desorbed_anomalies!=1\")[\"val_ood_ads_goc\"] \\\n",
    "            - df_ood_ads.query(\"adsorbate_dissociated_anomalies!=1&adsorbate_desorbed_anomalies!=1\")[\"ref_energies\"])),}\n",
    "# val ood both \n",
    "val_ood_both_dict = {\"all\":np.mean(np.abs(df_ood_both_sample[\"val_ood_both_goc\"] - df_ood_both_sample[\"ref_energies\"])),\n",
    "              \"remove ads anomaly\":np.mean(np.abs(df_ood_both.query(\"adsorbate_dissociated_anomalies!=1&adsorbate_desorbed_anomalies!=1\")[\"val_ood_both_goc\"] \\\n",
    "            - df_ood_both.query(\"adsorbate_dissociated_anomalies!=1&adsorbate_desorbed_anomalies!=1\")[\"ref_energies\"])),}"
   ]
  },
  {
   "cell_type": "code",
   "execution_count": 13,
   "metadata": {},
   "outputs": [
    {
     "data": {
      "text/html": [
       "<div>\n",
       "<style scoped>\n",
       "    .dataframe tbody tr th:only-of-type {\n",
       "        vertical-align: middle;\n",
       "    }\n",
       "\n",
       "    .dataframe tbody tr th {\n",
       "        vertical-align: top;\n",
       "    }\n",
       "\n",
       "    .dataframe thead th {\n",
       "        text-align: right;\n",
       "    }\n",
       "</style>\n",
       "<table border=\"1\" class=\"dataframe\">\n",
       "  <thead>\n",
       "    <tr style=\"text-align: right;\">\n",
       "      <th></th>\n",
       "      <th>val_id</th>\n",
       "      <th>ood_ads</th>\n",
       "      <th>ood_cat</th>\n",
       "      <th>ood_both</th>\n",
       "      <th>mean</th>\n",
       "    </tr>\n",
       "  </thead>\n",
       "  <tbody>\n",
       "    <tr>\n",
       "      <th>all</th>\n",
       "      <td>0.164</td>\n",
       "      <td>0.191</td>\n",
       "      <td>0.286</td>\n",
       "      <td>0.353</td>\n",
       "      <td>0.248</td>\n",
       "    </tr>\n",
       "    <tr>\n",
       "      <th>remove ads anomaly</th>\n",
       "      <td>0.151</td>\n",
       "      <td>0.179</td>\n",
       "      <td>0.252</td>\n",
       "      <td>0.319</td>\n",
       "      <td>0.225</td>\n",
       "    </tr>\n",
       "  </tbody>\n",
       "</table>\n",
       "</div>"
      ],
      "text/plain": [
       "                    val_id  ood_ads  ood_cat  ood_both   mean\n",
       "all                  0.164    0.191    0.286     0.353  0.248\n",
       "remove ads anomaly   0.151    0.179    0.252     0.319  0.225"
      ]
     },
     "execution_count": 13,
     "metadata": {},
     "output_type": "execute_result"
    }
   ],
   "source": [
    "# Create DataFrame\n",
    "data = {\n",
    "    \"val_id\": [round(val_id_dict[\"all\"], 3), round(val_id_dict[\"remove ads anomaly\"], 3)],\n",
    "    \"ood_ads\": [round(val_ood_ads_dict[\"all\"], 3), round(val_ood_ads_dict[\"remove ads anomaly\"], 3)],\n",
    "    \"ood_cat\": [round(val_ood_cat_dict[\"all\"], 3), round(val_ood_cat_dict[\"remove ads anomaly\"], 3)],\n",
    "    \"ood_both\": [round(val_ood_both_dict[\"all\"], 3), round(val_ood_both_dict[\"remove ads anomaly\"], 3)]\n",
    "}\n",
    "\n",
    "index = [\"all\", \"remove ads anomaly\"]\n",
    "\n",
    "df = pd.DataFrame(data, index=index)\n",
    "df['mean'] = df.mean(axis=1)\n",
    "df.round(3)"
   ]
  },
  {
   "cell_type": "markdown",
   "metadata": {},
   "source": [
    "## eSCN"
   ]
  },
  {
   "cell_type": "code",
   "execution_count": null,
   "metadata": {},
   "outputs": [],
   "source": [
    "random.seed(10)\n",
    "df_val_id_sample = df_val_id.iloc[random.sample(range(0,len(df_val_id)), len(df_val_id.query(\"surface_anomalies!=1\")))]\n",
    "df_ood_cat_sample = df_ood_cat.iloc[random.sample(range(0,len(df_ood_cat)), len(df_ood_cat.query(\"surface_anomalies!=1\")))]\n",
    "df_ood_ads_sample = df_ood_ads.iloc[random.sample(range(0,len(df_ood_ads)), len(df_ood_ads.query(\"surface_anomalies!=1\")))]\n",
    "df_ood_both_sample = df_ood_both.iloc[random.sample(range(0,len(df_ood_both)), len(df_ood_both.query(\"surface_anomalies!=1\")))]\n",
    "# val id\n",
    "val_id_dict = {\"all\":np.mean(np.abs(df_val_id_sample[\"val_id_escn\"] - df_val_id_sample[\"ref_energies\"])),\n",
    "              \"remove ads anomaly\":np.mean(np.abs(df_val_id.query(\"adsorbate_dissociated_anomalies!=1&adsorbate_desorbed_anomalies!=1\")[\"val_id_escn\"] \\\n",
    "            - df_val_id.query(\"adsorbate_dissociated_anomalies!=1&adsorbate_desorbed_anomalies!=1\")[\"ref_energies\"])),}\n",
    "# val ood cat\n",
    "val_ood_cat_dict = {\"all\":np.mean(np.abs(df_ood_cat_sample[\"val_ood_cat_escn\"] - df_ood_cat_sample[\"ref_energies\"])),\n",
    "              \"remove ads anomaly\":np.mean(np.abs(df_ood_cat.query(\"adsorbate_dissociated_anomalies!=1&adsorbate_desorbed_anomalies!=1\")[\"val_ood_cat_escn\"] \\\n",
    "            - df_ood_cat.query(\"adsorbate_dissociated_anomalies!=1&adsorbate_desorbed_anomalies!=1\")[\"ref_energies\"])),}\n",
    "# val ood ads\n",
    "val_ood_ads_dict = {\"all\":np.mean(np.abs(df_ood_ads_sample[\"val_ood_ads_escn\"] - df_ood_ads_sample[\"ref_energies\"])),\n",
    "              \"remove ads anomaly\":np.mean(np.abs(df_ood_ads.query(\"adsorbate_dissociated_anomalies!=1&adsorbate_desorbed_anomalies!=1\")[\"val_ood_ads_escn\"] \\\n",
    "            - df_ood_ads.query(\"adsorbate_dissociated_anomalies!=1&adsorbate_desorbed_anomalies!=1\")[\"ref_energies\"])),}\n",
    "# val ood both \n",
    "val_ood_both_dict = {\"all\":np.mean(np.abs(df_ood_both_sample[\"val_ood_both_escn\"] - df_ood_both_sample[\"ref_energies\"])),\n",
    "              \"remove ads anomaly\":np.mean(np.abs(df_ood_both.query(\"adsorbate_dissociated_anomalies!=1&adsorbate_desorbed_anomalies!=1\")[\"val_ood_both_escn\"] \\\n",
    "            - df_ood_both.query(\"adsorbate_dissociated_anomalies!=1&adsorbate_desorbed_anomalies!=1\")[\"ref_energies\"])),}"
   ]
  },
  {
   "cell_type": "code",
   "execution_count": 9,
   "metadata": {},
   "outputs": [
    {
     "data": {
      "text/html": [
       "<div>\n",
       "<style scoped>\n",
       "    .dataframe tbody tr th:only-of-type {\n",
       "        vertical-align: middle;\n",
       "    }\n",
       "\n",
       "    .dataframe tbody tr th {\n",
       "        vertical-align: top;\n",
       "    }\n",
       "\n",
       "    .dataframe thead th {\n",
       "        text-align: right;\n",
       "    }\n",
       "</style>\n",
       "<table border=\"1\" class=\"dataframe\">\n",
       "  <thead>\n",
       "    <tr style=\"text-align: right;\">\n",
       "      <th></th>\n",
       "      <th>val_id</th>\n",
       "      <th>ood_ads</th>\n",
       "      <th>ood_cat</th>\n",
       "      <th>ood_both</th>\n",
       "      <th>mean</th>\n",
       "    </tr>\n",
       "  </thead>\n",
       "  <tbody>\n",
       "    <tr>\n",
       "      <th>all</th>\n",
       "      <td>0.159</td>\n",
       "      <td>0.172</td>\n",
       "      <td>0.257</td>\n",
       "      <td>0.317</td>\n",
       "      <td>0.226</td>\n",
       "    </tr>\n",
       "    <tr>\n",
       "      <th>remove ads anomaly</th>\n",
       "      <td>0.146</td>\n",
       "      <td>0.156</td>\n",
       "      <td>0.226</td>\n",
       "      <td>0.281</td>\n",
       "      <td>0.202</td>\n",
       "    </tr>\n",
       "  </tbody>\n",
       "</table>\n",
       "</div>"
      ],
      "text/plain": [
       "                    val_id  ood_ads  ood_cat  ood_both   mean\n",
       "all                  0.159    0.172    0.257     0.317  0.226\n",
       "remove ads anomaly   0.146    0.156    0.226     0.281  0.202"
      ]
     },
     "execution_count": 9,
     "metadata": {},
     "output_type": "execute_result"
    }
   ],
   "source": [
    "# Create DataFrame\n",
    "data = {\n",
    "    \"val_id\": [round(val_id_dict[\"all\"], 3), round(val_id_dict[\"remove ads anomaly\"], 3)],\n",
    "    \"ood_ads\": [round(val_ood_ads_dict[\"all\"], 3), round(val_ood_ads_dict[\"remove ads anomaly\"], 3)],\n",
    "    \"ood_cat\": [round(val_ood_cat_dict[\"all\"], 3), round(val_ood_cat_dict[\"remove ads anomaly\"], 3)],\n",
    "    \"ood_both\": [round(val_ood_both_dict[\"all\"], 3), round(val_ood_both_dict[\"remove ads anomaly\"], 3)]\n",
    "}\n",
    "\n",
    "index = [\"all\", \"remove ads anomaly\"]\n",
    "\n",
    "df = pd.DataFrame(data, index=index)\n",
    "df['mean'] = df.mean(axis=1)\n",
    "df.round(3)"
   ]
  },
  {
   "cell_type": "markdown",
   "metadata": {},
   "source": [
    "## Equiformer-V2"
   ]
  },
  {
   "cell_type": "code",
   "execution_count": 14,
   "metadata": {},
   "outputs": [],
   "source": [
    "random.seed(10)\n",
    "df_val_id_sample = df_val_id.iloc[random.sample(range(0,len(df_val_id)), len(df_val_id.query(\"surface_anomalies!=1\")))]\n",
    "df_ood_cat_sample = df_ood_cat.iloc[random.sample(range(0,len(df_ood_cat)), len(df_ood_cat.query(\"surface_anomalies!=1\")))]\n",
    "df_ood_ads_sample = df_ood_ads.iloc[random.sample(range(0,len(df_ood_ads)), len(df_ood_ads.query(\"surface_anomalies!=1\")))]\n",
    "df_ood_both_sample = df_ood_both.iloc[random.sample(range(0,len(df_ood_both)), len(df_ood_both.query(\"surface_anomalies!=1\")))]\n",
    "# val id\n",
    "val_id_dict = {\"all\":np.mean(np.abs(df_val_id_sample[\"val_id_eqv2\"] - df_val_id_sample[\"ref_energies\"])),\n",
    "              \"remove ads anomaly\":np.mean(np.abs(df_val_id.query(\"adsorbate_dissociated_anomalies!=1&adsorbate_desorbed_anomalies!=1\")[\"val_id_eqv2\"] \\\n",
    "            - df_val_id.query(\"adsorbate_dissociated_anomalies!=1&adsorbate_desorbed_anomalies!=1\")[\"ref_energies\"])),}\n",
    "# val ood cat\n",
    "val_ood_cat_dict = {\"all\":np.mean(np.abs(df_ood_cat_sample[\"val_ood_cat_eqv2\"] - df_ood_cat_sample[\"ref_energies\"])),\n",
    "              \"remove ads anomaly\":np.mean(np.abs(df_ood_cat.query(\"adsorbate_dissociated_anomalies!=1&adsorbate_desorbed_anomalies!=1\")[\"val_ood_cat_eqv2\"] \\\n",
    "            - df_ood_cat.query(\"adsorbate_dissociated_anomalies!=1&adsorbate_desorbed_anomalies!=1\")[\"ref_energies\"])),}\n",
    "# val ood ads\n",
    "val_ood_ads_dict = {\"all\":np.mean(np.abs(df_ood_ads_sample[\"val_ood_ads_eqv2\"] - df_ood_ads_sample[\"ref_energies\"])),\n",
    "              \"remove ads anomaly\":np.mean(np.abs(df_ood_ads.query(\"adsorbate_dissociated_anomalies!=1&adsorbate_desorbed_anomalies!=1\")[\"val_ood_ads_eqv2\"] \\\n",
    "            - df_ood_ads.query(\"adsorbate_dissociated_anomalies!=1&adsorbate_desorbed_anomalies!=1\")[\"ref_energies\"])),}\n",
    "# val ood both \n",
    "val_ood_both_dict = {\"all\":np.mean(np.abs(df_ood_both_sample[\"val_ood_both_eqv2\"] - df_ood_both_sample[\"ref_energies\"])),\n",
    "              \"remove ads anomaly\":np.mean(np.abs(df_ood_both.query(\"adsorbate_dissociated_anomalies!=1&adsorbate_desorbed_anomalies!=1\")[\"val_ood_both_eqv2\"] \\\n",
    "            - df_ood_both.query(\"adsorbate_dissociated_anomalies!=1&adsorbate_desorbed_anomalies!=1\")[\"ref_energies\"])),}"
   ]
  },
  {
   "cell_type": "code",
   "execution_count": 15,
   "metadata": {},
   "outputs": [
    {
     "data": {
      "text/html": [
       "<div>\n",
       "<style scoped>\n",
       "    .dataframe tbody tr th:only-of-type {\n",
       "        vertical-align: middle;\n",
       "    }\n",
       "\n",
       "    .dataframe tbody tr th {\n",
       "        vertical-align: top;\n",
       "    }\n",
       "\n",
       "    .dataframe thead th {\n",
       "        text-align: right;\n",
       "    }\n",
       "</style>\n",
       "<table border=\"1\" class=\"dataframe\">\n",
       "  <thead>\n",
       "    <tr style=\"text-align: right;\">\n",
       "      <th></th>\n",
       "      <th>val_id</th>\n",
       "      <th>ood_ads</th>\n",
       "      <th>ood_cat</th>\n",
       "      <th>ood_both</th>\n",
       "      <th>mean</th>\n",
       "    </tr>\n",
       "  </thead>\n",
       "  <tbody>\n",
       "    <tr>\n",
       "      <th>all</th>\n",
       "      <td>0.159</td>\n",
       "      <td>0.172</td>\n",
       "      <td>0.257</td>\n",
       "      <td>0.317</td>\n",
       "      <td>0.226</td>\n",
       "    </tr>\n",
       "    <tr>\n",
       "      <th>remove ads anomaly</th>\n",
       "      <td>0.146</td>\n",
       "      <td>0.156</td>\n",
       "      <td>0.226</td>\n",
       "      <td>0.281</td>\n",
       "      <td>0.202</td>\n",
       "    </tr>\n",
       "  </tbody>\n",
       "</table>\n",
       "</div>"
      ],
      "text/plain": [
       "                    val_id  ood_ads  ood_cat  ood_both   mean\n",
       "all                  0.159    0.172    0.257     0.317  0.226\n",
       "remove ads anomaly   0.146    0.156    0.226     0.281  0.202"
      ]
     },
     "execution_count": 15,
     "metadata": {},
     "output_type": "execute_result"
    },
    {
     "ename": "",
     "evalue": "",
     "output_type": "error",
     "traceback": [
      "\u001b[1;31mThe Kernel crashed while executing code in the current cell or a previous cell. \n",
      "\u001b[1;31mPlease review the code in the cell(s) to identify a possible cause of the failure. \n",
      "\u001b[1;31mClick <a href='https://aka.ms/vscodeJupyterKernelCrash'>here</a> for more info. \n",
      "\u001b[1;31mView Jupyter <a href='command:jupyter.viewOutput'>log</a> for further details."
     ]
    }
   ],
   "source": [
    "# Create DataFrame\n",
    "data = {\n",
    "    \"val_id\": [round(val_id_dict[\"all\"], 3), round(val_id_dict[\"remove ads anomaly\"], 3)],\n",
    "    \"ood_ads\": [round(val_ood_ads_dict[\"all\"], 3), round(val_ood_ads_dict[\"remove ads anomaly\"], 3)],\n",
    "    \"ood_cat\": [round(val_ood_cat_dict[\"all\"], 3), round(val_ood_cat_dict[\"remove ads anomaly\"], 3)],\n",
    "    \"ood_both\": [round(val_ood_both_dict[\"all\"], 3), round(val_ood_both_dict[\"remove ads anomaly\"], 3)]\n",
    "}\n",
    "\n",
    "index = [\"all\", \"remove ads anomaly\"]\n",
    "\n",
    "df = pd.DataFrame(data, index=index)\n",
    "df['mean'] = df.mean(axis=1)\n",
    "df.round(3)"
   ]
  },
  {
   "cell_type": "code",
   "execution_count": null,
   "metadata": {},
   "outputs": [],
   "source": []
  }
 ],
 "metadata": {
  "kernelspec": {
   "display_name": "base",
   "language": "python",
   "name": "python3"
  },
  "language_info": {
   "codemirror_mode": {
    "name": "ipython",
    "version": 3
   },
   "file_extension": ".py",
   "mimetype": "text/x-python",
   "name": "python",
   "nbconvert_exporter": "python",
   "pygments_lexer": "ipython3",
   "version": "3.9.undefined"
  }
 },
 "nbformat": 4,
 "nbformat_minor": 2
}
