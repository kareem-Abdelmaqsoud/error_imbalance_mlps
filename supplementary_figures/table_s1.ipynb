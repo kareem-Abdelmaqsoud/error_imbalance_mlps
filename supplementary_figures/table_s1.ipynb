{
 "cells": [
  {
   "cell_type": "code",
   "execution_count": 1,
   "metadata": {},
   "outputs": [],
   "source": [
    "import pickle\n",
    "import numpy as np\n",
    "import pandas as pd\n",
    "import random\n",
    "from tqdm import tqdm\n",
    "import warnings\n",
    "warnings.filterwarnings(\"ignore\")"
   ]
  },
  {
   "cell_type": "code",
   "execution_count": 2,
   "metadata": {},
   "outputs": [],
   "source": [
    "df_val_id = pd.read_csv(\"../val_sets_with_anomalies/val_id_30k_anomalies.csv\", index_col=0)\n",
    "df_ood_cat = pd.read_csv(\"../val_sets_with_anomalies/val_ood_cat_30k_anomalies.csv\", index_col=0)\n",
    "df_ood_ads = pd.read_csv(\"../val_sets_with_anomalies/val_ood_ads_30k_anomalies.csv\", index_col=0)\n",
    "df_ood_both = pd.read_csv(\"../val_sets_with_anomalies/val_ood_both_30k_anomalies.csv\", index_col=0)"
   ]
  },
  {
   "cell_type": "markdown",
   "metadata": {},
   "source": [
    "# GemNet-OC"
   ]
  },
  {
   "cell_type": "code",
   "execution_count": 11,
   "metadata": {},
   "outputs": [],
   "source": [
    "random.seed(10)\n",
    "df_val_id_sample = df_val_id.iloc[random.sample(range(0,len(df_val_id)), len(df_val_id.query(\"surface_anomalies!=1\")))]\n",
    "df_ood_cat_sample = df_ood_cat.iloc[random.sample(range(0,len(df_ood_cat)), len(df_ood_cat.query(\"surface_anomalies!=1\")))]\n",
    "df_ood_ads_sample = df_ood_ads.iloc[random.sample(range(0,len(df_ood_ads)), len(df_ood_ads.query(\"surface_anomalies!=1\")))]\n",
    "df_ood_both_sample = df_ood_both.iloc[random.sample(range(0,len(df_ood_both)), len(df_ood_both.query(\"surface_anomalies!=1\")))]\n",
    "# val id\n",
    "val_id_dict = {\"all\":np.mean(np.abs(df_val_id_sample[\"goc_forces_maes\"])),\n",
    "              \"remove surface anomaly\":np.mean(np.abs(df_val_id.query(\"surface_anomalies!=1\")[\"goc_forces_maes\"]))}\n",
    "# val ood cat\n",
    "val_ood_cat_dict = {\"all\":np.mean(np.abs(df_ood_cat_sample[\"goc_forces_maes\"] )),\n",
    "              \"remove surface anomaly\":np.mean(np.abs(df_ood_cat.query(\"surface_anomalies!=1\")[\"goc_forces_maes\"])),}\n",
    "# val ood ads\n",
    "val_ood_ads_dict = {\"all\":np.mean(np.abs(df_ood_ads_sample[\"goc_forces_maes\"])),\n",
    "              \"remove surface anomaly\":np.mean(np.abs(df_ood_ads.query(\"surface_anomalies!=1\")[\"goc_forces_maes\"]))}\n",
    "# val ood both \n",
    "val_ood_both_dict = {\"all\":np.mean(np.abs(df_ood_both_sample[\"goc_forces_maes\"])),\n",
    "              \"remove surface anomaly\":np.mean(np.abs(df_ood_both.query(\"surface_anomalies!=1\")[\"goc_forces_maes\"])),}"
   ]
  },
  {
   "cell_type": "code",
   "execution_count": 13,
   "metadata": {},
   "outputs": [
    {
     "data": {
      "text/html": [
       "<div>\n",
       "<style scoped>\n",
       "    .dataframe tbody tr th:only-of-type {\n",
       "        vertical-align: middle;\n",
       "    }\n",
       "\n",
       "    .dataframe tbody tr th {\n",
       "        vertical-align: top;\n",
       "    }\n",
       "\n",
       "    .dataframe thead th {\n",
       "        text-align: right;\n",
       "    }\n",
       "</style>\n",
       "<table border=\"1\" class=\"dataframe\">\n",
       "  <thead>\n",
       "    <tr style=\"text-align: right;\">\n",
       "      <th></th>\n",
       "      <th>val_id</th>\n",
       "      <th>ood_ads</th>\n",
       "      <th>ood_cat</th>\n",
       "      <th>ood_both</th>\n",
       "      <th>mean</th>\n",
       "    </tr>\n",
       "  </thead>\n",
       "  <tbody>\n",
       "    <tr>\n",
       "      <th>all</th>\n",
       "      <td>0.0164</td>\n",
       "      <td>0.0182</td>\n",
       "      <td>0.0208</td>\n",
       "      <td>0.0250</td>\n",
       "      <td>0.0201</td>\n",
       "    </tr>\n",
       "    <tr>\n",
       "      <th>remove surface anomaly</th>\n",
       "      <td>0.0160</td>\n",
       "      <td>0.0179</td>\n",
       "      <td>0.0202</td>\n",
       "      <td>0.0243</td>\n",
       "      <td>0.0196</td>\n",
       "    </tr>\n",
       "  </tbody>\n",
       "</table>\n",
       "</div>"
      ],
      "text/plain": [
       "                        val_id  ood_ads  ood_cat  ood_both    mean\n",
       "all                     0.0164   0.0182   0.0208    0.0250  0.0201\n",
       "remove surface anomaly  0.0160   0.0179   0.0202    0.0243  0.0196"
      ]
     },
     "execution_count": 13,
     "metadata": {},
     "output_type": "execute_result"
    }
   ],
   "source": [
    "# Create DataFrame\n",
    "data = {\n",
    "    \"val_id\": [round(val_id_dict[\"all\"], 4), round(val_id_dict[\"remove surface anomaly\"], 4)],\n",
    "    \"ood_ads\": [round(val_ood_ads_dict[\"all\"], 4), round(val_ood_ads_dict[\"remove surface anomaly\"], 4)],\n",
    "    \"ood_cat\": [round(val_ood_cat_dict[\"all\"], 4), round(val_ood_cat_dict[\"remove surface anomaly\"], 4), ],\n",
    "    \"ood_both\": [round(val_ood_both_dict[\"all\"], 4), round(val_ood_both_dict[\"remove surface anomaly\"], 4), ]\n",
    "}\n",
    "\n",
    "index = [\"all\", \"remove surface anomaly\"]\n",
    "\n",
    "df = pd.DataFrame(data, index=index)\n",
    "df['mean'] = df.mean(axis=1)\n",
    "df.round(4)"
   ]
  },
  {
   "cell_type": "markdown",
   "metadata": {},
   "source": [
    "## eSCN"
   ]
  },
  {
   "cell_type": "code",
   "execution_count": 15,
   "metadata": {},
   "outputs": [],
   "source": [
    "random.seed(10)\n",
    "df_val_id_sample = df_val_id.iloc[random.sample(range(0,len(df_val_id)), len(df_val_id.query(\"surface_anomalies!=1\")))]\n",
    "df_ood_cat_sample = df_ood_cat.iloc[random.sample(range(0,len(df_ood_cat)), len(df_ood_cat.query(\"surface_anomalies!=1\")))]\n",
    "df_ood_ads_sample = df_ood_ads.iloc[random.sample(range(0,len(df_ood_ads)), len(df_ood_ads.query(\"surface_anomalies!=1\")))]\n",
    "df_ood_both_sample = df_ood_both.iloc[random.sample(range(0,len(df_ood_both)), len(df_ood_both.query(\"surface_anomalies!=1\")))]\n",
    "# val id\n",
    "val_id_dict = {\"all\":np.mean(np.abs(df_val_id_sample[\"escn_forces_maes\"])),\n",
    "              \"remove surface anomaly\":np.mean(np.abs(df_val_id.query(\"surface_anomalies!=1\")[\"escn_forces_maes\"]))}\n",
    "# val ood cat\n",
    "val_ood_cat_dict = {\"all\":np.mean(np.abs(df_ood_cat_sample[\"escn_forces_maes\"] )),\n",
    "              \"remove surface anomaly\":np.mean(np.abs(df_ood_cat.query(\"surface_anomalies!=1\")[\"escn_forces_maes\"])),}\n",
    "# val ood ads\n",
    "val_ood_ads_dict = {\"all\":np.mean(np.abs(df_ood_ads_sample[\"escn_forces_maes\"])),\n",
    "              \"remove surface anomaly\":np.mean(np.abs(df_ood_ads.query(\"surface_anomalies!=1\")[\"escn_forces_maes\"]))}\n",
    "# val ood both \n",
    "val_ood_both_dict = {\"all\":np.mean(np.abs(df_ood_both_sample[\"escn_forces_maes\"])),\n",
    "              \"remove surface anomaly\":np.mean(np.abs(df_ood_both.query(\"surface_anomalies!=1\")[\"escn_forces_maes\"])),}"
   ]
  },
  {
   "cell_type": "code",
   "execution_count": 16,
   "metadata": {},
   "outputs": [
    {
     "data": {
      "text/html": [
       "<div>\n",
       "<style scoped>\n",
       "    .dataframe tbody tr th:only-of-type {\n",
       "        vertical-align: middle;\n",
       "    }\n",
       "\n",
       "    .dataframe tbody tr th {\n",
       "        vertical-align: top;\n",
       "    }\n",
       "\n",
       "    .dataframe thead th {\n",
       "        text-align: right;\n",
       "    }\n",
       "</style>\n",
       "<table border=\"1\" class=\"dataframe\">\n",
       "  <thead>\n",
       "    <tr style=\"text-align: right;\">\n",
       "      <th></th>\n",
       "      <th>val_id</th>\n",
       "      <th>ood_ads</th>\n",
       "      <th>ood_cat</th>\n",
       "      <th>ood_both</th>\n",
       "      <th>mean</th>\n",
       "    </tr>\n",
       "  </thead>\n",
       "  <tbody>\n",
       "    <tr>\n",
       "      <th>all</th>\n",
       "      <td>0.0139</td>\n",
       "      <td>0.0152</td>\n",
       "      <td>0.0170</td>\n",
       "      <td>0.0200</td>\n",
       "      <td>0.0165</td>\n",
       "    </tr>\n",
       "    <tr>\n",
       "      <th>remove surface anomaly</th>\n",
       "      <td>0.0137</td>\n",
       "      <td>0.0150</td>\n",
       "      <td>0.0167</td>\n",
       "      <td>0.0196</td>\n",
       "      <td>0.0162</td>\n",
       "    </tr>\n",
       "  </tbody>\n",
       "</table>\n",
       "</div>"
      ],
      "text/plain": [
       "                        val_id  ood_ads  ood_cat  ood_both    mean\n",
       "all                     0.0139   0.0152   0.0170    0.0200  0.0165\n",
       "remove surface anomaly  0.0137   0.0150   0.0167    0.0196  0.0162"
      ]
     },
     "execution_count": 16,
     "metadata": {},
     "output_type": "execute_result"
    }
   ],
   "source": [
    "# Create DataFrame\n",
    "data = {\n",
    "    \"val_id\": [round(val_id_dict[\"all\"], 4), round(val_id_dict[\"remove surface anomaly\"], 4)],\n",
    "    \"ood_ads\": [round(val_ood_ads_dict[\"all\"], 4), round(val_ood_ads_dict[\"remove surface anomaly\"], 4)],\n",
    "    \"ood_cat\": [round(val_ood_cat_dict[\"all\"], 4), round(val_ood_cat_dict[\"remove surface anomaly\"], 4), ],\n",
    "    \"ood_both\": [round(val_ood_both_dict[\"all\"], 4), round(val_ood_both_dict[\"remove surface anomaly\"], 4), ]\n",
    "}\n",
    "\n",
    "index = [\"all\", \"remove surface anomaly\"]\n",
    "\n",
    "df = pd.DataFrame(data, index=index)\n",
    "df['mean'] = df.mean(axis=1)\n",
    "df.round(4)"
   ]
  },
  {
   "cell_type": "markdown",
   "metadata": {},
   "source": [
    "## EqV2"
   ]
  },
  {
   "cell_type": "code",
   "execution_count": 18,
   "metadata": {},
   "outputs": [],
   "source": [
    "random.seed(10)\n",
    "df_val_id_sample = df_val_id.iloc[random.sample(range(0,len(df_val_id)), len(df_val_id.query(\"surface_anomalies!=1\")))]\n",
    "df_ood_cat_sample = df_ood_cat.iloc[random.sample(range(0,len(df_ood_cat)), len(df_ood_cat.query(\"surface_anomalies!=1\")))]\n",
    "df_ood_ads_sample = df_ood_ads.iloc[random.sample(range(0,len(df_ood_ads)), len(df_ood_ads.query(\"surface_anomalies!=1\")))]\n",
    "df_ood_both_sample = df_ood_both.iloc[random.sample(range(0,len(df_ood_both)), len(df_ood_both.query(\"surface_anomalies!=1\")))]\n",
    "# val id\n",
    "val_id_dict = {\"all\":np.mean(np.abs(df_val_id_sample[\"eqv2_forces_maes\"])),\n",
    "              \"remove surface anomaly\":np.mean(np.abs(df_val_id.query(\"surface_anomalies!=1\")[\"eqv2_forces_maes\"]))}\n",
    "# val ood cat\n",
    "val_ood_cat_dict = {\"all\":np.mean(np.abs(df_ood_cat_sample[\"eqv2_forces_maes\"] )),\n",
    "              \"remove surface anomaly\":np.mean(np.abs(df_ood_cat.query(\"surface_anomalies!=1\")[\"eqv2_forces_maes\"])),}\n",
    "# val ood ads\n",
    "val_ood_ads_dict = {\"all\":np.mean(np.abs(df_ood_ads_sample[\"eqv2_forces_maes\"])),\n",
    "              \"remove surface anomaly\":np.mean(np.abs(df_ood_ads.query(\"surface_anomalies!=1\")[\"eqv2_forces_maes\"]))}\n",
    "# val ood both \n",
    "val_ood_both_dict = {\"all\":np.mean(np.abs(df_ood_both_sample[\"eqv2_forces_maes\"])),\n",
    "              \"remove surface anomaly\":np.mean(np.abs(df_ood_both.query(\"surface_anomalies!=1\")[\"eqv2_forces_maes\"])),}"
   ]
  },
  {
   "cell_type": "code",
   "execution_count": 19,
   "metadata": {},
   "outputs": [
    {
     "data": {
      "text/html": [
       "<div>\n",
       "<style scoped>\n",
       "    .dataframe tbody tr th:only-of-type {\n",
       "        vertical-align: middle;\n",
       "    }\n",
       "\n",
       "    .dataframe tbody tr th {\n",
       "        vertical-align: top;\n",
       "    }\n",
       "\n",
       "    .dataframe thead th {\n",
       "        text-align: right;\n",
       "    }\n",
       "</style>\n",
       "<table border=\"1\" class=\"dataframe\">\n",
       "  <thead>\n",
       "    <tr style=\"text-align: right;\">\n",
       "      <th></th>\n",
       "      <th>val_id</th>\n",
       "      <th>ood_ads</th>\n",
       "      <th>ood_cat</th>\n",
       "      <th>ood_both</th>\n",
       "      <th>mean</th>\n",
       "    </tr>\n",
       "  </thead>\n",
       "  <tbody>\n",
       "    <tr>\n",
       "      <th>all</th>\n",
       "      <td>0.0123</td>\n",
       "      <td>0.0133</td>\n",
       "      <td>0.0158</td>\n",
       "      <td>0.0183</td>\n",
       "      <td>0.0149</td>\n",
       "    </tr>\n",
       "    <tr>\n",
       "      <th>remove surface anomaly</th>\n",
       "      <td>0.0122</td>\n",
       "      <td>0.0131</td>\n",
       "      <td>0.0156</td>\n",
       "      <td>0.0180</td>\n",
       "      <td>0.0147</td>\n",
       "    </tr>\n",
       "  </tbody>\n",
       "</table>\n",
       "</div>"
      ],
      "text/plain": [
       "                        val_id  ood_ads  ood_cat  ood_both    mean\n",
       "all                     0.0123   0.0133   0.0158    0.0183  0.0149\n",
       "remove surface anomaly  0.0122   0.0131   0.0156    0.0180  0.0147"
      ]
     },
     "execution_count": 19,
     "metadata": {},
     "output_type": "execute_result"
    }
   ],
   "source": [
    "# Create DataFrame\n",
    "data = {\n",
    "    \"val_id\": [round(val_id_dict[\"all\"], 4), round(val_id_dict[\"remove surface anomaly\"], 4)],\n",
    "    \"ood_ads\": [round(val_ood_ads_dict[\"all\"], 4), round(val_ood_ads_dict[\"remove surface anomaly\"], 4)],\n",
    "    \"ood_cat\": [round(val_ood_cat_dict[\"all\"], 4), round(val_ood_cat_dict[\"remove surface anomaly\"], 4), ],\n",
    "    \"ood_both\": [round(val_ood_both_dict[\"all\"], 4), round(val_ood_both_dict[\"remove surface anomaly\"], 4), ]\n",
    "}\n",
    "\n",
    "index = [\"all\", \"remove surface anomaly\"]\n",
    "\n",
    "df = pd.DataFrame(data, index=index)\n",
    "df['mean'] = df.mean(axis=1)\n",
    "df.round(4)"
   ]
  },
  {
   "cell_type": "code",
   "execution_count": null,
   "metadata": {},
   "outputs": [],
   "source": []
  }
 ],
 "metadata": {
  "kernelspec": {
   "display_name": "base",
   "language": "python",
   "name": "python3"
  },
  "language_info": {
   "codemirror_mode": {
    "name": "ipython",
    "version": 3
   },
   "file_extension": ".py",
   "mimetype": "text/x-python",
   "name": "python",
   "nbconvert_exporter": "python",
   "pygments_lexer": "ipython3",
   "version": "3.9.15"
  }
 },
 "nbformat": 4,
 "nbformat_minor": 2
}
