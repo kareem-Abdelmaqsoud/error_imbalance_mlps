{
 "cells": [
  {
   "cell_type": "code",
   "execution_count": 1,
   "metadata": {},
   "outputs": [],
   "source": [
    "from ocpmodels.datasets import LmdbDataset as LD\n",
    "import matplotlib.pyplot as plt\n",
    "import pickle\n",
    "import numpy as np\n",
    "import pandas as pd\n",
    "from tqdm import tqdm\n",
    "import warnings\n",
    "warnings.filterwarnings(\"ignore\")"
   ]
  },
  {
   "cell_type": "code",
   "execution_count": 3,
   "metadata": {},
   "outputs": [],
   "source": [
    "## get mappings of sid (a random number) to systems (adslabs) that are in the OC20 dataset \n",
    "with open(\"oc20_data_mapping.pkl\", \"rb\") as input_file:\n",
    "    mappings = pickle.load(input_file)\n",
    "# load the OC20 reference energies\n",
    "with open(\"oc20_ref.pkl\", \"rb\") as input_file:\n",
    "    ref_energies = pickle.load(input_file)\n",
    "# load the mapping from an adslab sid to a slab sid\n",
    "with open(\"mapping_adslab_slab.pkl\", \"rb\") as input_file:\n",
    "    adslab_slab_mappings = pickle.load(input_file)"
   ]
  },
  {
   "cell_type": "code",
   "execution_count": 4,
   "metadata": {},
   "outputs": [],
   "source": [
    "# load the is2re val sets with the DFT energies\n",
    "df_val_id = pd.read_csv(\"is2re_val_sets/is2re_val_id.csv\", index_col=0)\n",
    "df_ood_ads = pd.read_csv(\"is2re_val_sets/is2re_val_ood_ads.csv\", index_col=0)\n",
    "df_ood_cat = pd.read_csv(\"is2re_val_sets/is2re_val_ood_cat.csv\", index_col=0)\n",
    "df_ood_both = pd.read_csv(\"is2re_val_sets/is2re_val_ood_both.csv\", index_col=0)"
   ]
  },
  {
   "cell_type": "code",
   "execution_count": 5,
   "metadata": {},
   "outputs": [],
   "source": [
    "# load the surface sid: surface anomalies binary vector for each val set\n",
    "df_val_id_anom = pd.read_csv(\"is2re_val_sets_anom/is2re_val_id_surf_anom.csv\", index_col=0)\n",
    "df_ood_ads_anom = pd.read_csv(\"is2re_val_sets_anom/is2re_val_ood_ads_surf_anom.csv\", index_col=0)\n",
    "df_ood_cat_anom = pd.read_csv(\"is2re_val_sets_anom/is2re_val_ood_cat_surf_anom.csv\", index_col=0)\n",
    "df_ood_both_anom = pd.read_csv(\"is2re_val_sets_anom/is2re_val_ood_both_surf_anom.csv\", index_col=0)"
   ]
  },
  {
   "cell_type": "code",
   "execution_count": 6,
   "metadata": {},
   "outputs": [
    {
     "name": "stderr",
     "output_type": "stream",
     "text": [
      "100%|██████████| 24943/24943 [00:12<00:00, 2063.72it/s]\n",
      "100%|██████████| 24961/24961 [00:12<00:00, 2043.86it/s]\n",
      "100%|██████████| 24963/24963 [00:12<00:00, 2034.06it/s]\n",
      "100%|██████████| 24987/24987 [00:12<00:00, 2010.58it/s]\n"
     ]
    }
   ],
   "source": [
    "for df, df_anom in [(df_val_id,df_val_id_anom),(df_ood_ads,df_ood_ads_anom),\n",
    "                    (df_ood_cat,df_ood_cat_anom),(df_ood_both,df_ood_both_anom)]:\n",
    "    sorted_surf_anom = []\n",
    "    for sid in tqdm(df[\"sid\"].values):\n",
    "        sid = \"random\" + str(sid)\n",
    "        surf_anomalies = df_anom[\"surface_anomalies\"].values\n",
    "        sorted_surf_anom.append(surf_anomalies[np.where(df_anom[\"sid\"].values==sid)[0][0]])\n",
    "    df[\"surface_anomalies\"] = sorted_surf_anom"
   ]
  },
  {
   "cell_type": "code",
   "execution_count": 7,
   "metadata": {},
   "outputs": [
    {
     "name": "stderr",
     "output_type": "stream",
     "text": [
      "100%|██████████| 24943/24943 [00:00<00:00, 341754.35it/s]\n",
      "100%|██████████| 24963/24963 [00:00<00:00, 369018.69it/s]\n",
      "100%|██████████| 24961/24961 [00:00<00:00, 376628.36it/s]\n",
      "100%|██████████| 24987/24987 [00:00<00:00, 382836.69it/s]\n"
     ]
    }
   ],
   "source": [
    "## MAE distribution of the MAEs\n",
    "for df in [df_val_id,df_ood_cat,df_ood_ads,df_ood_both]:\n",
    "    material_classes = []\n",
    "    for i in tqdm(df[\"sid\"].values):\n",
    "        sid = \"random\"+str(i)\n",
    "        material_classes.append(mappings[sid][\"class\"])\n",
    "    material_classes = np.array(material_classes)\n",
    "    # add system information to the dataframe\n",
    "    df[\"cat_class\"] = material_classes"
   ]
  },
  {
   "cell_type": "code",
   "execution_count": 8,
   "metadata": {},
   "outputs": [
    {
     "ename": "FileNotFoundError",
     "evalue": "[Errno 2] No such file or directory: '/home/jovyan/shared-scratch/kabdelma/oc20_data_quality_project/ocp/results/2024-04-18-02-54-56-is2re-goc-id-oc20-only/s2ef_predictions.npz'",
     "output_type": "error",
     "traceback": [
      "\u001b[0;31m---------------------------------------------------------------------------\u001b[0m",
      "\u001b[0;31mFileNotFoundError\u001b[0m                         Traceback (most recent call last)",
      "Cell \u001b[0;32mIn[8], line 3\u001b[0m\n\u001b[1;32m      1\u001b[0m \u001b[38;5;66;03m## id\u001b[39;00m\n\u001b[1;32m      2\u001b[0m pred_path \u001b[38;5;241m=\u001b[39m \u001b[38;5;124m\"\u001b[39m\u001b[38;5;124m/home/jovyan/shared-scratch/kabdelma/oc20_data_quality_project/ocp/results/2024-04-18-02-54-56-is2re-goc-id-oc20-only/s2ef_predictions.npz\u001b[39m\u001b[38;5;124m\"\u001b[39m\n\u001b[0;32m----> 3\u001b[0m val_predictions \u001b[38;5;241m=\u001b[39m \u001b[43mnp\u001b[49m\u001b[38;5;241;43m.\u001b[39;49m\u001b[43mload\u001b[49m\u001b[43m(\u001b[49m\u001b[43mpred_path\u001b[49m\u001b[43m)\u001b[49m\n",
      "File \u001b[0;32m/opt/conda/lib/python3.9/site-packages/numpy/lib/npyio.py:405\u001b[0m, in \u001b[0;36mload\u001b[0;34m(file, mmap_mode, allow_pickle, fix_imports, encoding, max_header_size)\u001b[0m\n\u001b[1;32m    403\u001b[0m     own_fid \u001b[38;5;241m=\u001b[39m \u001b[38;5;28;01mFalse\u001b[39;00m\n\u001b[1;32m    404\u001b[0m \u001b[38;5;28;01melse\u001b[39;00m:\n\u001b[0;32m--> 405\u001b[0m     fid \u001b[38;5;241m=\u001b[39m stack\u001b[38;5;241m.\u001b[39menter_context(\u001b[38;5;28;43mopen\u001b[39;49m\u001b[43m(\u001b[49m\u001b[43mos_fspath\u001b[49m\u001b[43m(\u001b[49m\u001b[43mfile\u001b[49m\u001b[43m)\u001b[49m\u001b[43m,\u001b[49m\u001b[43m \u001b[49m\u001b[38;5;124;43m\"\u001b[39;49m\u001b[38;5;124;43mrb\u001b[39;49m\u001b[38;5;124;43m\"\u001b[39;49m\u001b[43m)\u001b[49m)\n\u001b[1;32m    406\u001b[0m     own_fid \u001b[38;5;241m=\u001b[39m \u001b[38;5;28;01mTrue\u001b[39;00m\n\u001b[1;32m    408\u001b[0m \u001b[38;5;66;03m# Code to distinguish from NumPy binary files and pickles.\u001b[39;00m\n",
      "\u001b[0;31mFileNotFoundError\u001b[0m: [Errno 2] No such file or directory: '/home/jovyan/shared-scratch/kabdelma/oc20_data_quality_project/ocp/results/2024-04-18-02-54-56-is2re-goc-id-oc20-only/s2ef_predictions.npz'"
     ]
    }
   ],
   "source": [
    "## id\n",
    "pred_path = \"/home/jovyan/shared-scratch/kabdelma/oc20_data_quality_project/ocp/results/2024-04-18-02-54-56-is2re-goc-id-oc20-only/s2ef_predictions.npz\"\n",
    "val_predictions = np.load(pred_path)"
   ]
  },
  {
   "cell_type": "code",
   "execution_count": null,
   "metadata": {},
   "outputs": [],
   "source": [
    "val_id_preds_goc = []\n",
    "for i in tqdm(range(len(df_val_id))):\n",
    "    sid = str(df_val_id[\"sid\"][i])\n",
    "    val_id_preds_goc.append(val_predictions[\"energy\"][np.where(val_predictions[\"ids\"]==sid)[0]][0][0])"
   ]
  },
  {
   "cell_type": "code",
   "execution_count": null,
   "metadata": {},
   "outputs": [],
   "source": [
    "df_val_id[\"direct_ads_energy_pred\"] = val_id_preds_goc\n",
    "val_id_ads_mae = np.mean(np.abs(df_val_id[\"direct_ads_energy_pred\"] - \\\n",
    "                                df_val_id[\"dft_adsorption_energy\"]))\n",
    "val_id_ads_mae"
   ]
  },
  {
   "cell_type": "code",
   "execution_count": null,
   "metadata": {},
   "outputs": [],
   "source": [
    "## ood ads\n",
    "pred_path = \"/home/jovyan/shared-scratch/kabdelma/oc20_data_quality_project/ocp/results/2024-04-18-03-09-52-is2re-goc-ood-ads-oc20-only/s2ef_predictions.npz\"\n",
    "val_predictions = np.load(pred_path)"
   ]
  },
  {
   "cell_type": "code",
   "execution_count": null,
   "metadata": {},
   "outputs": [],
   "source": [
    "val_ood_ads_preds_goc = []\n",
    "for i in tqdm(range(len(df_ood_ads))):\n",
    "    sid = str(df_ood_ads[\"sid\"][i])\n",
    "    val_ood_ads_preds_goc.append(val_predictions[\"energy\"][np.where(val_predictions[\"ids\"]==sid)[0]][0][0])"
   ]
  },
  {
   "cell_type": "code",
   "execution_count": null,
   "metadata": {},
   "outputs": [],
   "source": [
    "df_ood_ads[\"direct_ads_energy_pred\"] = val_ood_ads_preds_goc\n",
    "val_ood_ads_ads_mae = np.mean(np.abs(df_ood_ads[\"direct_ads_energy_pred\"] - \\\n",
    "                                     df_ood_ads[\"dft_adsorption_energy\"]))\n",
    "val_ood_ads_ads_mae"
   ]
  },
  {
   "cell_type": "code",
   "execution_count": null,
   "metadata": {},
   "outputs": [],
   "source": [
    "## ood cat\n",
    "pred_path = \"/home/jovyan/shared-scratch/kabdelma/oc20_data_quality_project/ocp/results/2024-04-18-03-39-44-is2re-goc-ood-cat-oc20-only/s2ef_predictions.npz\"\n",
    "val_predictions = np.load(pred_path)"
   ]
  },
  {
   "cell_type": "code",
   "execution_count": null,
   "metadata": {},
   "outputs": [],
   "source": [
    "val_ood_cat_preds_goc = []\n",
    "for i in tqdm(range(len(df_ood_cat))):\n",
    "    sid = str(df_ood_cat[\"sid\"][i])\n",
    "    val_ood_cat_preds_goc.append(val_predictions[\"energy\"][np.where(val_predictions[\"ids\"]==sid)[0]][0][0])"
   ]
  },
  {
   "cell_type": "code",
   "execution_count": null,
   "metadata": {},
   "outputs": [],
   "source": [
    "df_ood_cat[\"direct_ads_energy_pred\"] = val_ood_cat_preds_goc\n",
    "val_ood_cat_ads_mae = np.mean(np.abs(df_ood_cat[\"direct_ads_energy_pred\"] - \\\n",
    "                                     df_ood_cat[\"dft_adsorption_energy\"]))\n",
    "val_ood_cat_ads_mae"
   ]
  },
  {
   "cell_type": "code",
   "execution_count": null,
   "metadata": {},
   "outputs": [],
   "source": [
    "## ood both\n",
    "pred_path = \"/home/jovyan/shared-scratch/kabdelma/oc20_data_quality_project/ocp/results/2024-04-18-03-54-40-is2re-goc-ood-both-oc20-only/s2ef_predictions.npz\"\n",
    "val_predictions = np.load(pred_path)"
   ]
  },
  {
   "cell_type": "code",
   "execution_count": null,
   "metadata": {},
   "outputs": [],
   "source": [
    "val_ood_both_preds_goc = []\n",
    "for i in tqdm(range(len(df_ood_both))):\n",
    "    sid = str(df_ood_both[\"sid\"][i])\n",
    "    val_ood_both_preds_goc.append(val_predictions[\"energy\"][np.where(val_predictions[\"ids\"]==sid)[0]][0][0])"
   ]
  },
  {
   "cell_type": "code",
   "execution_count": null,
   "metadata": {},
   "outputs": [],
   "source": [
    "df_ood_both[\"direct_ads_energy_pred\"] = val_ood_both_preds_goc\n",
    "val_ood_both_ads_mae = np.mean(np.abs(df_ood_both[\"direct_ads_energy_pred\"] - \\\n",
    "                                      df_ood_both[\"dft_adsorption_energy\"]))\n",
    "val_ood_both_ads_mae"
   ]
  },
  {
   "cell_type": "code",
   "execution_count": null,
   "metadata": {},
   "outputs": [],
   "source": [
    "names = [\"Val-ID\", \"Val-OOD-Ads\", \"Val-OOD-Cat\", \"Val-OOD-Both\"]\n",
    "val_ads_maes = [val_id_ads_mae,val_ood_ads_ads_mae,val_ood_cat_ads_mae,val_ood_both_ads_mae]\n"
   ]
  },
  {
   "cell_type": "code",
   "execution_count": null,
   "metadata": {},
   "outputs": [],
   "source": [
    "data = {\n",
    "    names[i]: [val_ads_maes[i]] for i in range(len(names))\n",
    "}\n",
    "\n",
    "df = pd.DataFrame(data, index = [\"original\"])\n",
    "df"
   ]
  },
  {
   "cell_type": "code",
   "execution_count": null,
   "metadata": {},
   "outputs": [],
   "source": []
  }
 ],
 "metadata": {
  "kernelspec": {
   "display_name": "base",
   "language": "python",
   "name": "python3"
  },
  "language_info": {
   "codemirror_mode": {
    "name": "ipython",
    "version": 3
   },
   "file_extension": ".py",
   "mimetype": "text/x-python",
   "name": "python",
   "nbconvert_exporter": "python",
   "pygments_lexer": "ipython3",
   "version": "3.9.15"
  }
 },
 "nbformat": 4,
 "nbformat_minor": 2
}
