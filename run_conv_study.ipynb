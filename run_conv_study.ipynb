{
 "cells": [
  {
   "cell_type": "code",
   "execution_count": 2,
   "metadata": {},
   "outputs": [],
   "source": [
    "from modified_vasp import write_vasp_input_files\n",
    "import numpy as np\n",
    "import pandas as pd\n",
    "import matplotlib.pyplot as plt\n",
    "import pickle\n",
    "import uuid\n",
    "import ase.io\n",
    "from tqdm import tqdm\n",
    "import os\n",
    "from os import path\n",
    "from glob import iglob\n",
    "import warnings\n",
    "warnings.filterwarnings(\"ignore\")"
   ]
  },
  {
   "cell_type": "code",
   "execution_count": 3,
   "metadata": {},
   "outputs": [],
   "source": [
    "with open(\"mapping_adslab_slab.pkl\", \"rb\") as input_file:\n",
    "    slab_adslab_mappings = pickle.load(input_file)\n",
    "    ## get makkings of sid (a random number) to systems (adslabs) that are in the OC20 dataset \n",
    "with open(\"oc20_data_mapping.pkl\", \"rb\") as input_file:\n",
    "    mappings = pickle.load(input_file)"
   ]
  },
  {
   "cell_type": "code",
   "execution_count": 4,
   "metadata": {},
   "outputs": [],
   "source": [
    "## Adeesh data from the perspecive paper\n",
    "df = pd.read_csv(\"gemnet-relaxations.csv\", index_col=0)\n",
    "df[\"error\"] = np.abs(df[\"energy dE [eV]\"] - df[\"genmet_T_predE\"])\n",
    "# sort error column in descending order\n",
    "df.sort_values(by=['error'], inplace=True, ascending=False)"
   ]
  },
  {
   "cell_type": "code",
   "execution_count": 5,
   "metadata": {},
   "outputs": [],
   "source": [
    "## pick the 10 nonmetallic systems with the highest ML errors\n",
    "df_nonmetals = df.query(\"material_type == 'nonmetals'\")\n",
    "sids = df_nonmetals.iloc[0:11][\"ID\"].values"
   ]
  },
  {
   "cell_type": "code",
   "execution_count": 6,
   "metadata": {},
   "outputs": [],
   "source": [
    "## load the mappings stored from previous experiments\n",
    "with open('dft_settings_study_mappings.pkl', 'rb') as read_file:\n",
    "    updated_mappings = pickle.load(read_file)\n",
    "# updated_mappings = updated_mappings.to_dict()"
   ]
  },
  {
   "cell_type": "code",
   "execution_count": 7,
   "metadata": {},
   "outputs": [
    {
     "name": "stderr",
     "output_type": "stream",
     "text": [
      "100%|██████████| 11/11 [00:00<00:00, 32.12it/s]\n"
     ]
    }
   ],
   "source": [
    "## Generate the vasp input files\n",
    "experiments_mappings = {}\n",
    "# loop over the randomly selected systems and generate vasp input files while saving the calcualtion meta data\n",
    "for sid in tqdm(sids):\n",
    "    system_mapping = mappings[sid]\n",
    "    slab_sid = slab_adslab_mappings[sid]\n",
    "    slab_atoms = ase.io.read(f\"/home/jovyan/shared-datasets/OC20/trajs/slabs/trajectories_all_02_05/{slab_sid}.traj\", 0)\n",
    "    \n",
    "    for kpts in [40]:\n",
    "            ## define the vasp flags for any modifications to the vasp inputs\n",
    "        VASP_FLAGS = {\n",
    "            \"encut\": 350,\n",
    "            \"kpts_multiplier\": kpts,\n",
    "            \"sigma\": 0.2,\n",
    "            \"ispin\": 1, \n",
    "            \"ismear\": 1,\n",
    "            \"ibrion\": 2,\n",
    "            \"nsw\": 0,\n",
    "            \"isif\": 0,\n",
    "            \"isym\": 0,\n",
    "            \"lreal\": \"Auto\",\n",
    "            \"ediffg\": -0.03,\n",
    "            \"symprec\": 1e-10,\n",
    "            \"ncore\": 4,\n",
    "            \"gga\": \"RP\",\n",
    "            \"pp\": \"PBE\",\n",
    "            \"xc\": \"PBE\",\n",
    "            \"lcharg\":False,\n",
    "            \"lwave\":False,\n",
    "            \"laechg\": False,\n",
    "        }\n",
    "\n",
    "        # create a random number for the experiment uuid\n",
    "        experiment_uuid = uuid.uuid4().hex\n",
    "\n",
    "        # save meta data about the system and the calculation\n",
    "        # put None for adsorbate information since this is just a slab calculation\n",
    "        meta_data= {\n",
    "            'bulk_id':system_mapping[\"bulk_id\"],\n",
    "            \"ads_id\": system_mapping[\"ads_id\"],\n",
    "            \"bulk_mpid\": system_mapping[\"bulk_mpid\"], \n",
    "            \"bulk_symbols\": system_mapping[\"bulk_symbols\"], \n",
    "            \"ads_symbols\": None,\n",
    "            \"miller_index\": list(system_mapping[\"miller_index\"]),\n",
    "            \"shift\": system_mapping[\"shift\"],\n",
    "            \"top\": system_mapping[\"top\"],\n",
    "            \"class\": system_mapping[\"class\"],\n",
    "            \"anomaly\": system_mapping[\"anomaly\"],\n",
    "            \"atoms\": slab_atoms,\n",
    "            \"encut\": VASP_FLAGS[\"encut\"],\n",
    "            \"k_point_multiplier\": VASP_FLAGS[\"kpts_multiplier\"], \n",
    "            \"sigma\": VASP_FLAGS[\"sigma\"],\n",
    "            \"ispin\": VASP_FLAGS[\"ispin\"],\n",
    "            \"ismear\": VASP_FLAGS[\"ismear\"],\n",
    "            \"xc\": VASP_FLAGS[\"xc\"],\n",
    "            \"oc20_sid\": slab_sid,\n",
    "            \"frame_num\":\"initial\",\n",
    "            \"final_energy\":None,\n",
    "            \"unconstrained_atoms_forces\":None,\n",
    "            \"nelm\":None,\n",
    "            \"last_scf_cycle_dE\": None,\n",
    "        }\n",
    "        if meta_data in updated_mappings.values():\n",
    "            print(\"Experiment already exists\")\n",
    "        else:\n",
    "            experiments_mappings[experiment_uuid] = meta_data\n",
    "            #storing the vasp input files in a folder with the experiment uuid\n",
    "            os.mkdir(\"kpts_error_cancel_study/{x}\".format(x = experiment_uuid))\n",
    "            write_vasp_input_files(slab_atoms, vasp_flags =VASP_FLAGS, outdir = \"kpts_error_cancel_study/{x}\".format(x = experiment_uuid))"
   ]
  },
  {
   "cell_type": "code",
   "execution_count": 9,
   "metadata": {},
   "outputs": [],
   "source": [
    "# update the mappings dictionary with the new experiments\n",
    "updated_mappings.update(experiments_mappings)\n",
    "# ## storing the meta-data in a json file\n",
    "with open('dft_settings_study_mappings.pkl', 'wb') as fout:\n",
    "    pickle.dump(updated_mappings, fout)"
   ]
  },
  {
   "cell_type": "code",
   "execution_count": null,
   "metadata": {},
   "outputs": [],
   "source": []
  }
 ],
 "metadata": {
  "kernelspec": {
   "display_name": "base",
   "language": "python",
   "name": "python3"
  },
  "language_info": {
   "codemirror_mode": {
    "name": "ipython",
    "version": 3
   },
   "file_extension": ".py",
   "mimetype": "text/x-python",
   "name": "python",
   "nbconvert_exporter": "python",
   "pygments_lexer": "ipython3",
   "version": "3.9.15"
  }
 },
 "nbformat": 4,
 "nbformat_minor": 2
}
