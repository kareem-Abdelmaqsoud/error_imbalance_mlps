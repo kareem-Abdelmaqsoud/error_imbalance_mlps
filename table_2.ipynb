{
 "cells": [
  {
   "cell_type": "code",
   "execution_count": 58,
   "id": "c4aecf52",
   "metadata": {},
   "outputs": [],
   "source": [
    "import ase.io\n",
    "import pickle\n",
    "import numpy as np\n",
    "import pandas as pd\n",
    "from tqdm import tqdm\n",
    "import matplotlib.pyplot as plt\n",
    "import warnings\n",
    "warnings.filterwarnings(\"ignore\")"
   ]
  },
  {
   "cell_type": "code",
   "execution_count": 59,
   "id": "b7c447d4",
   "metadata": {},
   "outputs": [],
   "source": [
    "## get mappings of sid (a random number) to systems (adslabs) that are in the OC20 dataset \n",
    "with open(\"oc20_data_mapping.pkl\", \"rb\") as input_file:\n",
    "    mappings = pickle.load(input_file)\n",
    "# load the OC20 reference energies\n",
    "with open(\"oc20_ref.pkl\", \"rb\") as input_file:\n",
    "    ref_energies = pickle.load(input_file)\n",
    "# load the mapping from an adslab sid to a slab sid\n",
    "with open(\"mapping_adslab_slab.pkl\", \"rb\") as input_file:\n",
    "    adslab_slab_mappings = pickle.load(input_file)"
   ]
  },
  {
   "cell_type": "markdown",
   "id": "0b392d4c",
   "metadata": {},
   "source": [
    "# Val-ID \n",
    "## Total energy predictions"
   ]
  },
  {
   "cell_type": "code",
   "execution_count": 60,
   "id": "6f502d04",
   "metadata": {},
   "outputs": [
    {
     "data": {
      "text/html": [
       "<div>\n",
       "<style scoped>\n",
       "    .dataframe tbody tr th:only-of-type {\n",
       "        vertical-align: middle;\n",
       "    }\n",
       "\n",
       "    .dataframe tbody tr th {\n",
       "        vertical-align: top;\n",
       "    }\n",
       "\n",
       "    .dataframe thead th {\n",
       "        text-align: right;\n",
       "    }\n",
       "</style>\n",
       "<table border=\"1\" class=\"dataframe\">\n",
       "  <thead>\n",
       "    <tr style=\"text-align: right;\">\n",
       "      <th></th>\n",
       "      <th>sid</th>\n",
       "      <th>dft_adsorption_energy</th>\n",
       "      <th>dft_slab_energy</th>\n",
       "      <th>dft_adsorbate_energy</th>\n",
       "      <th>dft_total_energies</th>\n",
       "      <th>ml_relax_slab_energy</th>\n",
       "      <th>ml_relax_total_energy</th>\n",
       "      <th>surface_anomalies</th>\n",
       "      <th>direct_ml_relax_ads_energy</th>\n",
       "    </tr>\n",
       "  </thead>\n",
       "  <tbody>\n",
       "    <tr>\n",
       "      <th>0</th>\n",
       "      <td>1700380</td>\n",
       "      <td>-0.401909</td>\n",
       "      <td>-262.986352</td>\n",
       "      <td>-23.120</td>\n",
       "      <td>-286.509224</td>\n",
       "      <td>-263.170</td>\n",
       "      <td>-286.628</td>\n",
       "      <td>0</td>\n",
       "      <td>-0.378</td>\n",
       "    </tr>\n",
       "    <tr>\n",
       "      <th>1</th>\n",
       "      <td>2320054</td>\n",
       "      <td>-3.992470</td>\n",
       "      <td>-842.315780</td>\n",
       "      <td>-31.949</td>\n",
       "      <td>-878.257892</td>\n",
       "      <td>-842.393</td>\n",
       "      <td>-878.610</td>\n",
       "      <td>0</td>\n",
       "      <td>-4.187</td>\n",
       "    </tr>\n",
       "    <tr>\n",
       "      <th>2</th>\n",
       "      <td>662687</td>\n",
       "      <td>0.920258</td>\n",
       "      <td>-763.037847</td>\n",
       "      <td>-25.718</td>\n",
       "      <td>-787.836557</td>\n",
       "      <td>-763.007</td>\n",
       "      <td>-793.112</td>\n",
       "      <td>0</td>\n",
       "      <td>-4.415</td>\n",
       "    </tr>\n",
       "    <tr>\n",
       "      <th>3</th>\n",
       "      <td>1924657</td>\n",
       "      <td>0.992241</td>\n",
       "      <td>-266.865661</td>\n",
       "      <td>-16.166</td>\n",
       "      <td>-282.039847</td>\n",
       "      <td>-267.077</td>\n",
       "      <td>-282.588</td>\n",
       "      <td>1</td>\n",
       "      <td>0.631</td>\n",
       "    </tr>\n",
       "    <tr>\n",
       "      <th>4</th>\n",
       "      <td>1507405</td>\n",
       "      <td>-0.051427</td>\n",
       "      <td>-173.036448</td>\n",
       "      <td>-10.681</td>\n",
       "      <td>-183.769094</td>\n",
       "      <td>-172.857</td>\n",
       "      <td>-183.710</td>\n",
       "      <td>0</td>\n",
       "      <td>-0.070</td>\n",
       "    </tr>\n",
       "    <tr>\n",
       "      <th>...</th>\n",
       "      <td>...</td>\n",
       "      <td>...</td>\n",
       "      <td>...</td>\n",
       "      <td>...</td>\n",
       "      <td>...</td>\n",
       "      <td>...</td>\n",
       "      <td>...</td>\n",
       "      <td>...</td>\n",
       "      <td>...</td>\n",
       "    </tr>\n",
       "    <tr>\n",
       "      <th>24938</th>\n",
       "      <td>1758896</td>\n",
       "      <td>2.426782</td>\n",
       "      <td>-315.964859</td>\n",
       "      <td>-15.287</td>\n",
       "      <td>-328.825241</td>\n",
       "      <td>-315.774</td>\n",
       "      <td>-328.585</td>\n",
       "      <td>1</td>\n",
       "      <td>1.308</td>\n",
       "    </tr>\n",
       "    <tr>\n",
       "      <th>24939</th>\n",
       "      <td>2497754</td>\n",
       "      <td>1.882087</td>\n",
       "      <td>-423.091313</td>\n",
       "      <td>-26.847</td>\n",
       "      <td>-448.056871</td>\n",
       "      <td>-423.217</td>\n",
       "      <td>-447.155</td>\n",
       "      <td>0</td>\n",
       "      <td>1.701</td>\n",
       "    </tr>\n",
       "    <tr>\n",
       "      <th>24940</th>\n",
       "      <td>1471951</td>\n",
       "      <td>-1.612726</td>\n",
       "      <td>-665.399468</td>\n",
       "      <td>-21.440</td>\n",
       "      <td>-688.452331</td>\n",
       "      <td>-665.413</td>\n",
       "      <td>-688.489</td>\n",
       "      <td>0</td>\n",
       "      <td>-1.663</td>\n",
       "    </tr>\n",
       "    <tr>\n",
       "      <th>24941</th>\n",
       "      <td>471031</td>\n",
       "      <td>1.814543</td>\n",
       "      <td>-705.581288</td>\n",
       "      <td>-30.324</td>\n",
       "      <td>-734.091658</td>\n",
       "      <td>-705.601</td>\n",
       "      <td>-734.032</td>\n",
       "      <td>0</td>\n",
       "      <td>1.756</td>\n",
       "    </tr>\n",
       "    <tr>\n",
       "      <th>24942</th>\n",
       "      <td>1869701</td>\n",
       "      <td>-1.220966</td>\n",
       "      <td>-167.162823</td>\n",
       "      <td>-21.518</td>\n",
       "      <td>-189.901627</td>\n",
       "      <td>-167.098</td>\n",
       "      <td>-189.801</td>\n",
       "      <td>0</td>\n",
       "      <td>-1.218</td>\n",
       "    </tr>\n",
       "  </tbody>\n",
       "</table>\n",
       "<p>24943 rows × 9 columns</p>\n",
       "</div>"
      ],
      "text/plain": [
       "           sid  dft_adsorption_energy  dft_slab_energy  dft_adsorbate_energy  \\\n",
       "0      1700380              -0.401909      -262.986352               -23.120   \n",
       "1      2320054              -3.992470      -842.315780               -31.949   \n",
       "2       662687               0.920258      -763.037847               -25.718   \n",
       "3      1924657               0.992241      -266.865661               -16.166   \n",
       "4      1507405              -0.051427      -173.036448               -10.681   \n",
       "...        ...                    ...              ...                   ...   \n",
       "24938  1758896               2.426782      -315.964859               -15.287   \n",
       "24939  2497754               1.882087      -423.091313               -26.847   \n",
       "24940  1471951              -1.612726      -665.399468               -21.440   \n",
       "24941   471031               1.814543      -705.581288               -30.324   \n",
       "24942  1869701              -1.220966      -167.162823               -21.518   \n",
       "\n",
       "       dft_total_energies  ml_relax_slab_energy  ml_relax_total_energy  \\\n",
       "0             -286.509224              -263.170               -286.628   \n",
       "1             -878.257892              -842.393               -878.610   \n",
       "2             -787.836557              -763.007               -793.112   \n",
       "3             -282.039847              -267.077               -282.588   \n",
       "4             -183.769094              -172.857               -183.710   \n",
       "...                   ...                   ...                    ...   \n",
       "24938         -328.825241              -315.774               -328.585   \n",
       "24939         -448.056871              -423.217               -447.155   \n",
       "24940         -688.452331              -665.413               -688.489   \n",
       "24941         -734.091658              -705.601               -734.032   \n",
       "24942         -189.901627              -167.098               -189.801   \n",
       "\n",
       "       surface_anomalies  direct_ml_relax_ads_energy  \n",
       "0                      0                      -0.378  \n",
       "1                      0                      -4.187  \n",
       "2                      0                      -4.415  \n",
       "3                      1                       0.631  \n",
       "4                      0                      -0.070  \n",
       "...                  ...                         ...  \n",
       "24938                  1                       1.308  \n",
       "24939                  0                       1.701  \n",
       "24940                  0                      -1.663  \n",
       "24941                  0                       1.756  \n",
       "24942                  0                      -1.218  \n",
       "\n",
       "[24943 rows x 9 columns]"
      ]
     },
     "execution_count": 60,
     "metadata": {},
     "output_type": "execute_result"
    }
   ],
   "source": [
    "df_val_id = pd.read_csv(\"is2re_val_sets/is2re_val_id.csv\", index_col=0)\n",
    "df_val_id"
   ]
  },
  {
   "cell_type": "code",
   "execution_count": 61,
   "id": "48e05187",
   "metadata": {},
   "outputs": [],
   "source": [
    "val_id_adslab_mae  = np.mean(np.abs(df_val_id[\"ml_relax_total_energy\"] - \\\n",
    "                                   df_val_id[\"dft_total_energies\"]))\n",
    "val_id_slab_mae = np.mean(np.abs(df_val_id[\"ml_relax_slab_energy\"] - df_val_id[\"dft_slab_energy\"]))"
   ]
  },
  {
   "cell_type": "code",
   "execution_count": 62,
   "id": "9866ceda",
   "metadata": {},
   "outputs": [
    {
     "data": {
      "text/plain": [
       "0.3835631842193586"
      ]
     },
     "execution_count": 62,
     "metadata": {},
     "output_type": "execute_result"
    }
   ],
   "source": [
    "# Full ML adsorption energy\n",
    "df_val_id[\"ads_energy_pred_ml_relax\"] =df_val_id[\"ml_relax_total_energy\"] - \\\n",
    "                                df_val_id[\"ml_relax_slab_energy\"] - \\\n",
    "                                df_val_id[\"dft_adsorbate_energy\"]\n",
    "val_id_ml_relax_ads_mae = np.mean(np.abs(df_val_id[\"dft_adsorption_energy\"] - \n",
    "                                         df_val_id[\"ads_energy_pred_ml_relax\"]))\n",
    "val_id_ml_relax_ads_mae"
   ]
  },
  {
   "cell_type": "markdown",
   "id": "468a80c7",
   "metadata": {},
   "source": [
    "## OOD Ads"
   ]
  },
  {
   "cell_type": "code",
   "execution_count": 63,
   "id": "8b7f4ecd",
   "metadata": {},
   "outputs": [
    {
     "data": {
      "text/html": [
       "<div>\n",
       "<style scoped>\n",
       "    .dataframe tbody tr th:only-of-type {\n",
       "        vertical-align: middle;\n",
       "    }\n",
       "\n",
       "    .dataframe tbody tr th {\n",
       "        vertical-align: top;\n",
       "    }\n",
       "\n",
       "    .dataframe thead th {\n",
       "        text-align: right;\n",
       "    }\n",
       "</style>\n",
       "<table border=\"1\" class=\"dataframe\">\n",
       "  <thead>\n",
       "    <tr style=\"text-align: right;\">\n",
       "      <th></th>\n",
       "      <th>sid</th>\n",
       "      <th>dft_adsorption_energy</th>\n",
       "      <th>dft_slab_energy</th>\n",
       "      <th>dft_adsorbate_energy</th>\n",
       "      <th>dft_total_energies</th>\n",
       "      <th>ml_relax_slab_energy</th>\n",
       "      <th>ml_relax_total_energy</th>\n",
       "      <th>surface_anomalies</th>\n",
       "      <th>direct_ml_relax_ads_energy</th>\n",
       "    </tr>\n",
       "  </thead>\n",
       "  <tbody>\n",
       "    <tr>\n",
       "      <th>0</th>\n",
       "      <td>1930510</td>\n",
       "      <td>-2.826377</td>\n",
       "      <td>-101.264936</td>\n",
       "      <td>-17.963</td>\n",
       "      <td>-122.054183</td>\n",
       "      <td>-101.459</td>\n",
       "      <td>-122.233</td>\n",
       "      <td>0</td>\n",
       "      <td>-2.803</td>\n",
       "    </tr>\n",
       "    <tr>\n",
       "      <th>1</th>\n",
       "      <td>1729668</td>\n",
       "      <td>1.307682</td>\n",
       "      <td>-473.706973</td>\n",
       "      <td>-17.963</td>\n",
       "      <td>-490.362160</td>\n",
       "      <td>-474.059</td>\n",
       "      <td>-490.891</td>\n",
       "      <td>0</td>\n",
       "      <td>1.242</td>\n",
       "    </tr>\n",
       "    <tr>\n",
       "      <th>2</th>\n",
       "      <td>710795</td>\n",
       "      <td>-1.009515</td>\n",
       "      <td>-754.430057</td>\n",
       "      <td>-10.759</td>\n",
       "      <td>-766.198491</td>\n",
       "      <td>-754.474</td>\n",
       "      <td>-766.239</td>\n",
       "      <td>0</td>\n",
       "      <td>-1.028</td>\n",
       "    </tr>\n",
       "    <tr>\n",
       "      <th>3</th>\n",
       "      <td>1904318</td>\n",
       "      <td>-1.053289</td>\n",
       "      <td>-21.711892</td>\n",
       "      <td>-15.037</td>\n",
       "      <td>-37.802931</td>\n",
       "      <td>-21.749</td>\n",
       "      <td>-37.827</td>\n",
       "      <td>0</td>\n",
       "      <td>-1.065</td>\n",
       "    </tr>\n",
       "    <tr>\n",
       "      <th>4</th>\n",
       "      <td>455640</td>\n",
       "      <td>3.714117</td>\n",
       "      <td>-442.394172</td>\n",
       "      <td>-25.968</td>\n",
       "      <td>-464.648437</td>\n",
       "      <td>-442.211</td>\n",
       "      <td>-465.149</td>\n",
       "      <td>1</td>\n",
       "      <td>3.065</td>\n",
       "    </tr>\n",
       "    <tr>\n",
       "      <th>...</th>\n",
       "      <td>...</td>\n",
       "      <td>...</td>\n",
       "      <td>...</td>\n",
       "      <td>...</td>\n",
       "      <td>...</td>\n",
       "      <td>...</td>\n",
       "      <td>...</td>\n",
       "      <td>...</td>\n",
       "      <td>...</td>\n",
       "    </tr>\n",
       "    <tr>\n",
       "      <th>24956</th>\n",
       "      <td>1670661</td>\n",
       "      <td>-1.797060</td>\n",
       "      <td>-300.947318</td>\n",
       "      <td>-15.037</td>\n",
       "      <td>-317.782127</td>\n",
       "      <td>-300.488</td>\n",
       "      <td>-317.514</td>\n",
       "      <td>0</td>\n",
       "      <td>-2.058</td>\n",
       "    </tr>\n",
       "    <tr>\n",
       "      <th>24957</th>\n",
       "      <td>714182</td>\n",
       "      <td>-1.844538</td>\n",
       "      <td>-155.935213</td>\n",
       "      <td>-17.963</td>\n",
       "      <td>-175.742621</td>\n",
       "      <td>-155.788</td>\n",
       "      <td>-175.592</td>\n",
       "      <td>0</td>\n",
       "      <td>0.025</td>\n",
       "    </tr>\n",
       "    <tr>\n",
       "      <th>24958</th>\n",
       "      <td>1728610</td>\n",
       "      <td>-0.299678</td>\n",
       "      <td>-453.185840</td>\n",
       "      <td>-10.759</td>\n",
       "      <td>-464.244437</td>\n",
       "      <td>-453.689</td>\n",
       "      <td>-464.594</td>\n",
       "      <td>1</td>\n",
       "      <td>-0.414</td>\n",
       "    </tr>\n",
       "    <tr>\n",
       "      <th>24959</th>\n",
       "      <td>614554</td>\n",
       "      <td>-4.340534</td>\n",
       "      <td>-1117.121880</td>\n",
       "      <td>-58.546</td>\n",
       "      <td>-1180.010287</td>\n",
       "      <td>-1116.800</td>\n",
       "      <td>-1179.597</td>\n",
       "      <td>0</td>\n",
       "      <td>-4.157</td>\n",
       "    </tr>\n",
       "    <tr>\n",
       "      <th>24960</th>\n",
       "      <td>1868777</td>\n",
       "      <td>-1.140345</td>\n",
       "      <td>-417.553621</td>\n",
       "      <td>-17.963</td>\n",
       "      <td>-436.656836</td>\n",
       "      <td>-417.561</td>\n",
       "      <td>-436.777</td>\n",
       "      <td>0</td>\n",
       "      <td>-1.242</td>\n",
       "    </tr>\n",
       "  </tbody>\n",
       "</table>\n",
       "<p>24961 rows × 9 columns</p>\n",
       "</div>"
      ],
      "text/plain": [
       "           sid  dft_adsorption_energy  dft_slab_energy  dft_adsorbate_energy  \\\n",
       "0      1930510              -2.826377      -101.264936               -17.963   \n",
       "1      1729668               1.307682      -473.706973               -17.963   \n",
       "2       710795              -1.009515      -754.430057               -10.759   \n",
       "3      1904318              -1.053289       -21.711892               -15.037   \n",
       "4       455640               3.714117      -442.394172               -25.968   \n",
       "...        ...                    ...              ...                   ...   \n",
       "24956  1670661              -1.797060      -300.947318               -15.037   \n",
       "24957   714182              -1.844538      -155.935213               -17.963   \n",
       "24958  1728610              -0.299678      -453.185840               -10.759   \n",
       "24959   614554              -4.340534     -1117.121880               -58.546   \n",
       "24960  1868777              -1.140345      -417.553621               -17.963   \n",
       "\n",
       "       dft_total_energies  ml_relax_slab_energy  ml_relax_total_energy  \\\n",
       "0             -122.054183              -101.459               -122.233   \n",
       "1             -490.362160              -474.059               -490.891   \n",
       "2             -766.198491              -754.474               -766.239   \n",
       "3              -37.802931               -21.749                -37.827   \n",
       "4             -464.648437              -442.211               -465.149   \n",
       "...                   ...                   ...                    ...   \n",
       "24956         -317.782127              -300.488               -317.514   \n",
       "24957         -175.742621              -155.788               -175.592   \n",
       "24958         -464.244437              -453.689               -464.594   \n",
       "24959        -1180.010287             -1116.800              -1179.597   \n",
       "24960         -436.656836              -417.561               -436.777   \n",
       "\n",
       "       surface_anomalies  direct_ml_relax_ads_energy  \n",
       "0                      0                      -2.803  \n",
       "1                      0                       1.242  \n",
       "2                      0                      -1.028  \n",
       "3                      0                      -1.065  \n",
       "4                      1                       3.065  \n",
       "...                  ...                         ...  \n",
       "24956                  0                      -2.058  \n",
       "24957                  0                       0.025  \n",
       "24958                  1                      -0.414  \n",
       "24959                  0                      -4.157  \n",
       "24960                  0                      -1.242  \n",
       "\n",
       "[24961 rows x 9 columns]"
      ]
     },
     "execution_count": 63,
     "metadata": {},
     "output_type": "execute_result"
    }
   ],
   "source": [
    "df_ood_ads = pd.read_csv(\"is2re_val_sets/is2re_val_ood_ads.csv\", index_col=0)\n",
    "df_ood_ads"
   ]
  },
  {
   "cell_type": "code",
   "execution_count": 64,
   "id": "0b3e2bcc",
   "metadata": {},
   "outputs": [],
   "source": [
    "val_ood_ads_adslab_mae  = np.mean(np.abs(df_ood_ads[\"ml_relax_total_energy\"] - \\\n",
    "                                   df_ood_ads[\"dft_total_energies\"]))\n",
    "val_ood_ads_slab_mae = np.mean(np.abs(df_ood_ads[\"ml_relax_slab_energy\"] - df_ood_ads[\"dft_slab_energy\"]))"
   ]
  },
  {
   "cell_type": "code",
   "execution_count": 65,
   "id": "15ac414b",
   "metadata": {},
   "outputs": [
    {
     "data": {
      "text/plain": [
       "0.4085411230913868"
      ]
     },
     "execution_count": 65,
     "metadata": {},
     "output_type": "execute_result"
    }
   ],
   "source": [
    "# Full ML adsorption energy\n",
    "df_ood_ads[\"ads_energy_pred_ml_relax\"] =df_ood_ads[\"ml_relax_total_energy\"] - \\\n",
    "                                df_ood_ads[\"ml_relax_slab_energy\"] - \\\n",
    "                                df_ood_ads[\"dft_adsorbate_energy\"]\n",
    "val_ood_ads_ml_relax_ads_mae = np.mean(np.abs(df_ood_ads[\"dft_adsorption_energy\"] - \n",
    "                                              df_ood_ads[\"ads_energy_pred_ml_relax\"]))\n",
    "val_ood_ads_ml_relax_ads_mae"
   ]
  },
  {
   "cell_type": "markdown",
   "id": "0d1268b9",
   "metadata": {},
   "source": [
    "## OOD Cat"
   ]
  },
  {
   "cell_type": "code",
   "execution_count": 66,
   "id": "e22a11cf",
   "metadata": {},
   "outputs": [
    {
     "data": {
      "text/html": [
       "<div>\n",
       "<style scoped>\n",
       "    .dataframe tbody tr th:only-of-type {\n",
       "        vertical-align: middle;\n",
       "    }\n",
       "\n",
       "    .dataframe tbody tr th {\n",
       "        vertical-align: top;\n",
       "    }\n",
       "\n",
       "    .dataframe thead th {\n",
       "        text-align: right;\n",
       "    }\n",
       "</style>\n",
       "<table border=\"1\" class=\"dataframe\">\n",
       "  <thead>\n",
       "    <tr style=\"text-align: right;\">\n",
       "      <th></th>\n",
       "      <th>sid</th>\n",
       "      <th>dft_adsorption_energy</th>\n",
       "      <th>dft_slab_energy</th>\n",
       "      <th>dft_adsorbate_energy</th>\n",
       "      <th>dft_total_energies</th>\n",
       "      <th>ml_relax_slab_energy</th>\n",
       "      <th>ml_relax_total_energy</th>\n",
       "      <th>surface_anomalies</th>\n",
       "      <th>direct_ml_relax_ads_energy</th>\n",
       "    </tr>\n",
       "  </thead>\n",
       "  <tbody>\n",
       "    <tr>\n",
       "      <th>0</th>\n",
       "      <td>964457</td>\n",
       "      <td>0.189052</td>\n",
       "      <td>-532.199081</td>\n",
       "      <td>-35.926</td>\n",
       "      <td>-567.935768</td>\n",
       "      <td>-532.663</td>\n",
       "      <td>-569.969</td>\n",
       "      <td>0</td>\n",
       "      <td>-0.986</td>\n",
       "    </tr>\n",
       "    <tr>\n",
       "      <th>1</th>\n",
       "      <td>2171563</td>\n",
       "      <td>-1.762883</td>\n",
       "      <td>-741.810916</td>\n",
       "      <td>-11.560</td>\n",
       "      <td>-755.134281</td>\n",
       "      <td>-742.244</td>\n",
       "      <td>-755.503</td>\n",
       "      <td>0</td>\n",
       "      <td>-1.610</td>\n",
       "    </tr>\n",
       "    <tr>\n",
       "      <th>2</th>\n",
       "      <td>2483979</td>\n",
       "      <td>-2.179446</td>\n",
       "      <td>-226.558383</td>\n",
       "      <td>-28.722</td>\n",
       "      <td>-257.459618</td>\n",
       "      <td>-226.879</td>\n",
       "      <td>-258.385</td>\n",
       "      <td>0</td>\n",
       "      <td>-3.032</td>\n",
       "    </tr>\n",
       "    <tr>\n",
       "      <th>3</th>\n",
       "      <td>2129454</td>\n",
       "      <td>-0.524066</td>\n",
       "      <td>-782.448166</td>\n",
       "      <td>-16.166</td>\n",
       "      <td>-799.138659</td>\n",
       "      <td>-781.832</td>\n",
       "      <td>-798.322</td>\n",
       "      <td>0</td>\n",
       "      <td>-0.536</td>\n",
       "    </tr>\n",
       "    <tr>\n",
       "      <th>4</th>\n",
       "      <td>1804653</td>\n",
       "      <td>1.405711</td>\n",
       "      <td>-432.385339</td>\n",
       "      <td>-10.681</td>\n",
       "      <td>-441.660847</td>\n",
       "      <td>-429.669</td>\n",
       "      <td>-438.816</td>\n",
       "      <td>0</td>\n",
       "      <td>1.513</td>\n",
       "    </tr>\n",
       "    <tr>\n",
       "      <th>...</th>\n",
       "      <td>...</td>\n",
       "      <td>...</td>\n",
       "      <td>...</td>\n",
       "      <td>...</td>\n",
       "      <td>...</td>\n",
       "      <td>...</td>\n",
       "      <td>...</td>\n",
       "      <td>...</td>\n",
       "      <td>...</td>\n",
       "    </tr>\n",
       "    <tr>\n",
       "      <th>24958</th>\n",
       "      <td>1638018</td>\n",
       "      <td>4.145774</td>\n",
       "      <td>-148.964775</td>\n",
       "      <td>-18.764</td>\n",
       "      <td>-163.583433</td>\n",
       "      <td>-148.804</td>\n",
       "      <td>-164.596</td>\n",
       "      <td>0</td>\n",
       "      <td>2.896</td>\n",
       "    </tr>\n",
       "    <tr>\n",
       "      <th>24959</th>\n",
       "      <td>1885680</td>\n",
       "      <td>4.251310</td>\n",
       "      <td>-347.094820</td>\n",
       "      <td>-44.982</td>\n",
       "      <td>-387.825740</td>\n",
       "      <td>-347.299</td>\n",
       "      <td>-388.548</td>\n",
       "      <td>1</td>\n",
       "      <td>3.974</td>\n",
       "    </tr>\n",
       "    <tr>\n",
       "      <th>24960</th>\n",
       "      <td>2186953</td>\n",
       "      <td>-2.622036</td>\n",
       "      <td>-489.020658</td>\n",
       "      <td>-35.926</td>\n",
       "      <td>-527.568434</td>\n",
       "      <td>-489.074</td>\n",
       "      <td>-527.426</td>\n",
       "      <td>0</td>\n",
       "      <td>-2.582</td>\n",
       "    </tr>\n",
       "    <tr>\n",
       "      <th>24961</th>\n",
       "      <td>506877</td>\n",
       "      <td>-0.589995</td>\n",
       "      <td>-442.812930</td>\n",
       "      <td>-19.643</td>\n",
       "      <td>-463.046619</td>\n",
       "      <td>-444.222</td>\n",
       "      <td>-464.423</td>\n",
       "      <td>0</td>\n",
       "      <td>-0.895</td>\n",
       "    </tr>\n",
       "    <tr>\n",
       "      <th>24962</th>\n",
       "      <td>449586</td>\n",
       "      <td>-3.413943</td>\n",
       "      <td>-580.719617</td>\n",
       "      <td>-24.995</td>\n",
       "      <td>-609.128666</td>\n",
       "      <td>-581.918</td>\n",
       "      <td>-610.299</td>\n",
       "      <td>0</td>\n",
       "      <td>-3.481</td>\n",
       "    </tr>\n",
       "  </tbody>\n",
       "</table>\n",
       "<p>24963 rows × 9 columns</p>\n",
       "</div>"
      ],
      "text/plain": [
       "           sid  dft_adsorption_energy  dft_slab_energy  dft_adsorbate_energy  \\\n",
       "0       964457               0.189052      -532.199081               -35.926   \n",
       "1      2171563              -1.762883      -741.810916               -11.560   \n",
       "2      2483979              -2.179446      -226.558383               -28.722   \n",
       "3      2129454              -0.524066      -782.448166               -16.166   \n",
       "4      1804653               1.405711      -432.385339               -10.681   \n",
       "...        ...                    ...              ...                   ...   \n",
       "24958  1638018               4.145774      -148.964775               -18.764   \n",
       "24959  1885680               4.251310      -347.094820               -44.982   \n",
       "24960  2186953              -2.622036      -489.020658               -35.926   \n",
       "24961   506877              -0.589995      -442.812930               -19.643   \n",
       "24962   449586              -3.413943      -580.719617               -24.995   \n",
       "\n",
       "       dft_total_energies  ml_relax_slab_energy  ml_relax_total_energy  \\\n",
       "0             -567.935768              -532.663               -569.969   \n",
       "1             -755.134281              -742.244               -755.503   \n",
       "2             -257.459618              -226.879               -258.385   \n",
       "3             -799.138659              -781.832               -798.322   \n",
       "4             -441.660847              -429.669               -438.816   \n",
       "...                   ...                   ...                    ...   \n",
       "24958         -163.583433              -148.804               -164.596   \n",
       "24959         -387.825740              -347.299               -388.548   \n",
       "24960         -527.568434              -489.074               -527.426   \n",
       "24961         -463.046619              -444.222               -464.423   \n",
       "24962         -609.128666              -581.918               -610.299   \n",
       "\n",
       "       surface_anomalies  direct_ml_relax_ads_energy  \n",
       "0                      0                      -0.986  \n",
       "1                      0                      -1.610  \n",
       "2                      0                      -3.032  \n",
       "3                      0                      -0.536  \n",
       "4                      0                       1.513  \n",
       "...                  ...                         ...  \n",
       "24958                  0                       2.896  \n",
       "24959                  1                       3.974  \n",
       "24960                  0                      -2.582  \n",
       "24961                  0                      -0.895  \n",
       "24962                  0                      -3.481  \n",
       "\n",
       "[24963 rows x 9 columns]"
      ]
     },
     "execution_count": 66,
     "metadata": {},
     "output_type": "execute_result"
    }
   ],
   "source": [
    "df_ood_cat = pd.read_csv(\"is2re_val_sets/is2re_val_ood_cat.csv\", index_col=0)\n",
    "df_ood_cat"
   ]
  },
  {
   "cell_type": "code",
   "execution_count": 67,
   "id": "c417043b",
   "metadata": {},
   "outputs": [],
   "source": [
    "val_ood_cat_adslab_mae  = np.mean(np.abs(df_ood_cat[\"ml_relax_total_energy\"] - \\\n",
    "                                   df_ood_cat[\"dft_total_energies\"]))\n",
    "val_ood_cat_slab_mae = np.mean(np.abs(df_ood_cat[\"ml_relax_slab_energy\"] - df_ood_cat[\"dft_slab_energy\"]))"
   ]
  },
  {
   "cell_type": "code",
   "execution_count": 68,
   "id": "f34bd39c",
   "metadata": {},
   "outputs": [
    {
     "data": {
      "text/plain": [
       "0.38432339589679376"
      ]
     },
     "execution_count": 68,
     "metadata": {},
     "output_type": "execute_result"
    }
   ],
   "source": [
    "# Full ML adsorption energy\n",
    "df_ood_cat[\"ads_energy_pred_ml_relax\"] =df_ood_cat[\"ml_relax_total_energy\"] - \\\n",
    "                                df_ood_cat[\"ml_relax_slab_energy\"] - \\\n",
    "                                df_ood_cat[\"dft_adsorbate_energy\"]\n",
    "val_ood_cat_ml_relax_ads_mae = np.mean(np.abs(df_ood_cat[\"dft_adsorption_energy\"] - \n",
    "                                              df_ood_cat[\"ads_energy_pred_ml_relax\"]))\n",
    "val_ood_cat_ml_relax_ads_mae"
   ]
  },
  {
   "cell_type": "markdown",
   "id": "1c263550",
   "metadata": {},
   "source": [
    "# Val-OOD-Both "
   ]
  },
  {
   "cell_type": "code",
   "execution_count": 69,
   "id": "fbfe4f2d",
   "metadata": {},
   "outputs": [
    {
     "data": {
      "text/html": [
       "<div>\n",
       "<style scoped>\n",
       "    .dataframe tbody tr th:only-of-type {\n",
       "        vertical-align: middle;\n",
       "    }\n",
       "\n",
       "    .dataframe tbody tr th {\n",
       "        vertical-align: top;\n",
       "    }\n",
       "\n",
       "    .dataframe thead th {\n",
       "        text-align: right;\n",
       "    }\n",
       "</style>\n",
       "<table border=\"1\" class=\"dataframe\">\n",
       "  <thead>\n",
       "    <tr style=\"text-align: right;\">\n",
       "      <th></th>\n",
       "      <th>sid</th>\n",
       "      <th>dft_adsorption_energy</th>\n",
       "      <th>dft_slab_energy</th>\n",
       "      <th>dft_adsorbate_energy</th>\n",
       "      <th>dft_total_energy</th>\n",
       "      <th>dft_total_energies</th>\n",
       "      <th>ml_relax_slab_energy</th>\n",
       "      <th>ml_relax_total_energy</th>\n",
       "      <th>surface_anomalies</th>\n",
       "      <th>direct_ml_relax_ads_energy</th>\n",
       "    </tr>\n",
       "  </thead>\n",
       "  <tbody>\n",
       "    <tr>\n",
       "      <th>0</th>\n",
       "      <td>2574092</td>\n",
       "      <td>-1.500569</td>\n",
       "      <td>-454.363499</td>\n",
       "      <td>-17.963</td>\n",
       "      <td>-473.827068</td>\n",
       "      <td>-473.826938</td>\n",
       "      <td>-454.427</td>\n",
       "      <td>-474.543</td>\n",
       "      <td>0</td>\n",
       "      <td>-1.415</td>\n",
       "    </tr>\n",
       "    <tr>\n",
       "      <th>1</th>\n",
       "      <td>2522358</td>\n",
       "      <td>-2.846116</td>\n",
       "      <td>-791.380293</td>\n",
       "      <td>-17.963</td>\n",
       "      <td>-812.189409</td>\n",
       "      <td>-812.189278</td>\n",
       "      <td>-791.825</td>\n",
       "      <td>-812.799</td>\n",
       "      <td>0</td>\n",
       "      <td>-3.055</td>\n",
       "    </tr>\n",
       "    <tr>\n",
       "      <th>2</th>\n",
       "      <td>2543745</td>\n",
       "      <td>-1.470944</td>\n",
       "      <td>-594.536624</td>\n",
       "      <td>-58.546</td>\n",
       "      <td>-654.553568</td>\n",
       "      <td>-654.555441</td>\n",
       "      <td>-590.028</td>\n",
       "      <td>-650.492</td>\n",
       "      <td>1</td>\n",
       "      <td>-3.089</td>\n",
       "    </tr>\n",
       "    <tr>\n",
       "      <th>3</th>\n",
       "      <td>2573082</td>\n",
       "      <td>-5.303689</td>\n",
       "      <td>-501.782502</td>\n",
       "      <td>-39.403</td>\n",
       "      <td>-546.489191</td>\n",
       "      <td>-546.489199</td>\n",
       "      <td>-501.864</td>\n",
       "      <td>-546.732</td>\n",
       "      <td>0</td>\n",
       "      <td>-5.454</td>\n",
       "    </tr>\n",
       "    <tr>\n",
       "      <th>4</th>\n",
       "      <td>2540810</td>\n",
       "      <td>1.946157</td>\n",
       "      <td>-762.299612</td>\n",
       "      <td>-15.037</td>\n",
       "      <td>-775.390456</td>\n",
       "      <td>-775.391205</td>\n",
       "      <td>-762.596</td>\n",
       "      <td>-778.075</td>\n",
       "      <td>0</td>\n",
       "      <td>1.179</td>\n",
       "    </tr>\n",
       "    <tr>\n",
       "      <th>...</th>\n",
       "      <td>...</td>\n",
       "      <td>...</td>\n",
       "      <td>...</td>\n",
       "      <td>...</td>\n",
       "      <td>...</td>\n",
       "      <td>...</td>\n",
       "      <td>...</td>\n",
       "      <td>...</td>\n",
       "      <td>...</td>\n",
       "      <td>...</td>\n",
       "    </tr>\n",
       "    <tr>\n",
       "      <th>24982</th>\n",
       "      <td>2009063</td>\n",
       "      <td>-0.577668</td>\n",
       "      <td>-195.153672</td>\n",
       "      <td>-17.963</td>\n",
       "      <td>-213.694340</td>\n",
       "      <td>-213.694210</td>\n",
       "      <td>-194.712</td>\n",
       "      <td>-213.301</td>\n",
       "      <td>0</td>\n",
       "      <td>-0.710</td>\n",
       "    </tr>\n",
       "    <tr>\n",
       "      <th>24983</th>\n",
       "      <td>2541962</td>\n",
       "      <td>0.087245</td>\n",
       "      <td>-391.756850</td>\n",
       "      <td>-17.963</td>\n",
       "      <td>-409.632605</td>\n",
       "      <td>-409.632475</td>\n",
       "      <td>-391.930</td>\n",
       "      <td>-409.870</td>\n",
       "      <td>0</td>\n",
       "      <td>-1.102</td>\n",
       "    </tr>\n",
       "    <tr>\n",
       "      <th>24984</th>\n",
       "      <td>2530077</td>\n",
       "      <td>-1.052784</td>\n",
       "      <td>-436.723385</td>\n",
       "      <td>-17.963</td>\n",
       "      <td>-455.739169</td>\n",
       "      <td>-455.739038</td>\n",
       "      <td>-437.884</td>\n",
       "      <td>-456.828</td>\n",
       "      <td>0</td>\n",
       "      <td>-1.075</td>\n",
       "    </tr>\n",
       "    <tr>\n",
       "      <th>24985</th>\n",
       "      <td>1445329</td>\n",
       "      <td>-4.045752</td>\n",
       "      <td>-704.474586</td>\n",
       "      <td>-58.546</td>\n",
       "      <td>-767.066337</td>\n",
       "      <td>-767.068210</td>\n",
       "      <td>-704.124</td>\n",
       "      <td>-766.713</td>\n",
       "      <td>0</td>\n",
       "      <td>-3.968</td>\n",
       "    </tr>\n",
       "    <tr>\n",
       "      <th>24986</th>\n",
       "      <td>2584656</td>\n",
       "      <td>-0.959952</td>\n",
       "      <td>-281.727961</td>\n",
       "      <td>-15.037</td>\n",
       "      <td>-297.724913</td>\n",
       "      <td>-297.725662</td>\n",
       "      <td>-282.707</td>\n",
       "      <td>-298.404</td>\n",
       "      <td>0</td>\n",
       "      <td>-0.790</td>\n",
       "    </tr>\n",
       "  </tbody>\n",
       "</table>\n",
       "<p>24987 rows × 10 columns</p>\n",
       "</div>"
      ],
      "text/plain": [
       "           sid  dft_adsorption_energy  dft_slab_energy  dft_adsorbate_energy  \\\n",
       "0      2574092              -1.500569      -454.363499               -17.963   \n",
       "1      2522358              -2.846116      -791.380293               -17.963   \n",
       "2      2543745              -1.470944      -594.536624               -58.546   \n",
       "3      2573082              -5.303689      -501.782502               -39.403   \n",
       "4      2540810               1.946157      -762.299612               -15.037   \n",
       "...        ...                    ...              ...                   ...   \n",
       "24982  2009063              -0.577668      -195.153672               -17.963   \n",
       "24983  2541962               0.087245      -391.756850               -17.963   \n",
       "24984  2530077              -1.052784      -436.723385               -17.963   \n",
       "24985  1445329              -4.045752      -704.474586               -58.546   \n",
       "24986  2584656              -0.959952      -281.727961               -15.037   \n",
       "\n",
       "       dft_total_energy  dft_total_energies  ml_relax_slab_energy  \\\n",
       "0           -473.827068         -473.826938              -454.427   \n",
       "1           -812.189409         -812.189278              -791.825   \n",
       "2           -654.553568         -654.555441              -590.028   \n",
       "3           -546.489191         -546.489199              -501.864   \n",
       "4           -775.390456         -775.391205              -762.596   \n",
       "...                 ...                 ...                   ...   \n",
       "24982       -213.694340         -213.694210              -194.712   \n",
       "24983       -409.632605         -409.632475              -391.930   \n",
       "24984       -455.739169         -455.739038              -437.884   \n",
       "24985       -767.066337         -767.068210              -704.124   \n",
       "24986       -297.724913         -297.725662              -282.707   \n",
       "\n",
       "       ml_relax_total_energy  surface_anomalies  direct_ml_relax_ads_energy  \n",
       "0                   -474.543                  0                      -1.415  \n",
       "1                   -812.799                  0                      -3.055  \n",
       "2                   -650.492                  1                      -3.089  \n",
       "3                   -546.732                  0                      -5.454  \n",
       "4                   -778.075                  0                       1.179  \n",
       "...                      ...                ...                         ...  \n",
       "24982               -213.301                  0                      -0.710  \n",
       "24983               -409.870                  0                      -1.102  \n",
       "24984               -456.828                  0                      -1.075  \n",
       "24985               -766.713                  0                      -3.968  \n",
       "24986               -298.404                  0                      -0.790  \n",
       "\n",
       "[24987 rows x 10 columns]"
      ]
     },
     "execution_count": 69,
     "metadata": {},
     "output_type": "execute_result"
    }
   ],
   "source": [
    "df_ood_both = pd.read_csv(\"is2re_val_sets/is2re_val_ood_both.csv\", index_col=0)\n",
    "df_ood_both"
   ]
  },
  {
   "cell_type": "code",
   "execution_count": 70,
   "id": "b3fda18d",
   "metadata": {},
   "outputs": [],
   "source": [
    "val_ood_both_adslab_mae  = np.mean(np.abs(df_ood_both[\"ml_relax_total_energy\"] - \\\n",
    "                                   df_ood_both[\"dft_total_energies\"]))\n",
    "val_ood_both_slab_mae = np.mean(np.abs(df_ood_both[\"ml_relax_slab_energy\"] - df_ood_both[\"dft_slab_energy\"]))"
   ]
  },
  {
   "cell_type": "code",
   "execution_count": 71,
   "id": "ec8d18b5",
   "metadata": {},
   "outputs": [
    {
     "data": {
      "text/plain": [
       "0.3508385108368365"
      ]
     },
     "execution_count": 71,
     "metadata": {},
     "output_type": "execute_result"
    }
   ],
   "source": [
    "# Full ML adsorption energy\n",
    "df_ood_both[\"ads_energy_pred_ml_relax\"] =df_ood_both[\"ml_relax_total_energy\"] - \\\n",
    "                                df_ood_both[\"ml_relax_slab_energy\"] - \\\n",
    "                                df_ood_both[\"dft_adsorbate_energy\"]\n",
    "val_ood_both_ml_relax_ads_mae = np.mean(np.abs(df_ood_both[\"dft_adsorption_energy\"] - \n",
    "                                               df_ood_both[\"ads_energy_pred_ml_relax\"]))\n",
    "val_ood_both_ml_relax_ads_mae"
   ]
  },
  {
   "cell_type": "code",
   "execution_count": 72,
   "id": "40198a9f",
   "metadata": {},
   "outputs": [
    {
     "data": {
      "text/html": [
       "<div>\n",
       "<style scoped>\n",
       "    .dataframe tbody tr th:only-of-type {\n",
       "        vertical-align: middle;\n",
       "    }\n",
       "\n",
       "    .dataframe tbody tr th {\n",
       "        vertical-align: top;\n",
       "    }\n",
       "\n",
       "    .dataframe thead th {\n",
       "        text-align: right;\n",
       "    }\n",
       "</style>\n",
       "<table border=\"1\" class=\"dataframe\">\n",
       "  <thead>\n",
       "    <tr style=\"text-align: right;\">\n",
       "      <th></th>\n",
       "      <th>Val-ID</th>\n",
       "      <th>Val-OOD-Ads</th>\n",
       "      <th>Val-OOD-Cat</th>\n",
       "      <th>Val-OOD-Both</th>\n",
       "    </tr>\n",
       "  </thead>\n",
       "  <tbody>\n",
       "    <tr>\n",
       "      <th>total energy</th>\n",
       "      <td>0.3439</td>\n",
       "      <td>0.3713</td>\n",
       "      <td>0.6297</td>\n",
       "      <td>0.6370</td>\n",
       "    </tr>\n",
       "    <tr>\n",
       "      <th>slab energy</th>\n",
       "      <td>0.2064</td>\n",
       "      <td>0.2075</td>\n",
       "      <td>0.5295</td>\n",
       "      <td>0.5409</td>\n",
       "    </tr>\n",
       "    <tr>\n",
       "      <th>ML relax ads energy</th>\n",
       "      <td>0.3836</td>\n",
       "      <td>0.4085</td>\n",
       "      <td>0.3843</td>\n",
       "      <td>0.3508</td>\n",
       "    </tr>\n",
       "  </tbody>\n",
       "</table>\n",
       "</div>"
      ],
      "text/plain": [
       "                     Val-ID  Val-OOD-Ads  Val-OOD-Cat  Val-OOD-Both\n",
       "total energy         0.3439       0.3713       0.6297        0.6370\n",
       "slab energy          0.2064       0.2075       0.5295        0.5409\n",
       "ML relax ads energy  0.3836       0.4085       0.3843        0.3508"
      ]
     },
     "execution_count": 72,
     "metadata": {},
     "output_type": "execute_result"
    }
   ],
   "source": [
    "names = [\"Val-ID\", \"Val-OOD-Ads\", \"Val-OOD-Cat\", \"Val-OOD-Both\"]\n",
    "val_total_maes = [val_id_adslab_mae,val_ood_ads_adslab_mae,val_ood_cat_adslab_mae,val_ood_both_adslab_mae]\n",
    "val_slab_maes = [val_id_slab_mae,val_ood_ads_slab_mae,val_ood_cat_slab_mae,val_ood_both_slab_mae]\n",
    "val_ml_ads_maes = [val_id_ml_relax_ads_mae,val_ood_ads_ml_relax_ads_mae,\n",
    "                   val_ood_cat_ml_relax_ads_mae,val_ood_both_ml_relax_ads_mae]\n",
    "data = {\n",
    "    names[i]: [val_total_maes[i], val_slab_maes[i],val_ml_ads_maes[i] ] for i in range(len(names))\n",
    "}\n",
    "\n",
    "df = pd.DataFrame(data, index = [\"total energy\", \"slab energy\", \"ML relax ads energy\"])\n",
    "df.round(4)"
   ]
  },
  {
   "cell_type": "code",
   "execution_count": 74,
   "id": "9159c22c",
   "metadata": {},
   "outputs": [
    {
     "name": "stderr",
     "output_type": "stream",
     "text": [
      "100%|██████████| 24943/24943 [00:00<00:00, 373159.14it/s]\n",
      "100%|██████████| 24963/24963 [00:00<00:00, 382086.54it/s]\n",
      "100%|██████████| 24961/24961 [00:00<00:00, 502874.87it/s]\n",
      "100%|██████████| 24987/24987 [00:00<00:00, 547148.82it/s]\n"
     ]
    }
   ],
   "source": [
    "## MAE distribution of the MAEs\n",
    "for df in [df_val_id,df_ood_cat,df_ood_ads,df_ood_both]:\n",
    "    material_classes = []\n",
    "    for i in tqdm(df[\"sid\"].values):\n",
    "        sid = \"random\"+str(i)\n",
    "        material_classes.append(mappings[sid][\"class\"])\n",
    "    material_classes = np.array(material_classes)\n",
    "    # add system information to the dataframe\n",
    "    df[\"cat_class\"] = material_classes"
   ]
  },
  {
   "cell_type": "code",
   "execution_count": 75,
   "id": "c0cbac8c",
   "metadata": {},
   "outputs": [],
   "source": [
    "# regenrate the figure in Adeesh's paper on about the ML errors across the material classes\n",
    "val_id_dict = {}\n",
    "for material in [0,1,2,3]:\n",
    "    val_id_dict[material] = np.mean(np.abs(df_val_id.query(f\"cat_class=={material}\")[\"ads_energy_pred_ml_relax\"] \\\n",
    "                                             - df_val_id.query(f\"cat_class=={material}\")[\"dft_adsorption_energy\"]))\n",
    "val_ood_ads_dict = {}\n",
    "for material in [0,1,2,3]:\n",
    "    val_ood_ads_dict[material] = np.mean(np.abs(df_ood_ads.query(f\"cat_class=={material}\")[\"ads_energy_pred_ml_relax\"] \\\n",
    "                                             - df_ood_ads.query(f\"cat_class=={material}\")[\"dft_adsorption_energy\"]))\n",
    "val_ood_cat_dict = {}\n",
    "for material in [0,1,2,3]:\n",
    "    val_ood_cat_dict[material] = np.mean(np.abs(df_ood_cat.query(f\"cat_class=={material}\")[\"ads_energy_pred_ml_relax\"] \\\n",
    "                                             - df_ood_cat.query(f\"cat_class=={material}\")[\"dft_adsorption_energy\"]))\n",
    "val_ood_both_dict = {}\n",
    "for material in [0,1,2,3]:\n",
    "    val_ood_both_dict[material] = np.mean(np.abs(df_ood_both.query(f\"cat_class=={material}\")[\"ads_energy_pred_ml_relax\"] \\\n",
    "                                             - df_ood_both.query(f\"cat_class=={material}\")[\"dft_adsorption_energy\"]))"
   ]
  },
  {
   "cell_type": "code",
   "execution_count": 76,
   "id": "039ba8c0",
   "metadata": {},
   "outputs": [
    {
     "data": {
      "image/png": "[encoded data removed]",
      "text/plain": [
       "<Figure size 640x480 with 1 Axes>"
      ]
     },
     "metadata": {},
     "output_type": "display_data"
    }
   ],
   "source": [
    "# Extract labels and mean values\n",
    "materials = [\"intermetallics\", \"metalloids\", \"nonmetals\", \"halides\"]\n",
    "labels = list(val_id_dict.keys())\n",
    "x = np.arange(len(labels))  # the label locations\n",
    "width = 0.2  # the width of the bars\n",
    "\n",
    "fig, ax = plt.subplots()\n",
    "rects1 = ax.bar(x - width, list(val_id_dict.values()), width, label='val-ID')\n",
    "rects2 = ax.bar(x, list(val_ood_ads_dict.values()), width, label='val-OOD-Ads')\n",
    "rects3 = ax.bar(x + width, list(val_ood_cat_dict.values()), width, label='val-OOD-Cat')\n",
    "rects4 = ax.bar(x + 2*width, list(val_ood_both_dict.values()), width, label='val-OOD-Both')\n",
    "\n",
    "# Add legend\n",
    "ax.legend()\n",
    "\n",
    "# Add labels and title\n",
    "ax.set_ylabel('Adsorption Energy MAE (eV)')\n",
    "ax.set_title('Gemnet-OC OC20+OC22 Full ML adsorption energy MAEs')\n",
    "ax.set_xticks(x)\n",
    "ax.set_xticklabels(materials)\n",
    "\n",
    "plt.show()"
   ]
  },
  {
   "cell_type": "markdown",
   "id": "b7143caa",
   "metadata": {},
   "source": [
    "## Direct adsorption energy MAEs"
   ]
  },
  {
   "cell_type": "code",
   "execution_count": 77,
   "id": "d3b7070a",
   "metadata": {},
   "outputs": [],
   "source": [
    "# load the is2re val sets with the DFT energies\n",
    "df_val_id = pd.read_csv(\"is2re_val_sets/is2re_val_id.csv\", index_col=0)\n",
    "df_ood_ads = pd.read_csv(\"is2re_val_sets/is2re_val_ood_ads.csv\", index_col=0)\n",
    "df_ood_cat = pd.read_csv(\"is2re_val_sets/is2re_val_ood_cat.csv\", index_col=0)\n",
    "df_ood_both = pd.read_csv(\"is2re_val_sets/is2re_val_ood_both.csv\", index_col=0)"
   ]
  },
  {
   "cell_type": "markdown",
   "id": "9f6f493e",
   "metadata": {},
   "source": [
    "## Val-ID"
   ]
  },
  {
   "cell_type": "code",
   "execution_count": 78,
   "id": "9f13341f",
   "metadata": {},
   "outputs": [
    {
     "data": {
      "text/plain": [
       "0.3345359714649397"
      ]
     },
     "execution_count": 78,
     "metadata": {},
     "output_type": "execute_result"
    }
   ],
   "source": [
    "val_id_ads_mae = np.mean(np.abs(df_val_id[\"dft_adsorption_energy\"] - df_val_id[\"direct_ml_relax_ads_energy\"]))\n",
    "val_id_ads_mae"
   ]
  },
  {
   "cell_type": "code",
   "execution_count": 79,
   "id": "c9c76dd5",
   "metadata": {},
   "outputs": [
    {
     "data": {
      "text/plain": [
       "0.2951394250978059"
      ]
     },
     "execution_count": 79,
     "metadata": {},
     "output_type": "execute_result"
    }
   ],
   "source": [
    "# no reconstructions\n",
    "val_id_ads_mae_anom = np.mean(np.abs(df_val_id.query(\"surface_anomalies==0\")[\"dft_adsorption_energy\"] -  \n",
    "                                      df_val_id.query(\"surface_anomalies==0\")[\"direct_ml_relax_ads_energy\"]))\n",
    "val_id_ads_mae_anom"
   ]
  },
  {
   "cell_type": "markdown",
   "id": "9cb7f05c",
   "metadata": {},
   "source": [
    "## Val-OOD-Ads"
   ]
  },
  {
   "cell_type": "code",
   "execution_count": 80,
   "id": "193318de",
   "metadata": {},
   "outputs": [
    {
     "data": {
      "text/plain": [
       "0.364400067266934"
      ]
     },
     "execution_count": 80,
     "metadata": {},
     "output_type": "execute_result"
    }
   ],
   "source": [
    "val_ood_ads_ads_mae = np.mean(np.abs(df_ood_ads[\"dft_adsorption_energy\"] - df_ood_ads[\"direct_ml_relax_ads_energy\"]))\n",
    "val_ood_ads_ads_mae"
   ]
  },
  {
   "cell_type": "code",
   "execution_count": 81,
   "id": "ba0848c8",
   "metadata": {},
   "outputs": [
    {
     "data": {
      "text/plain": [
       "0.32174603154126846"
      ]
     },
     "execution_count": 81,
     "metadata": {},
     "output_type": "execute_result"
    }
   ],
   "source": [
    "val_ood_ads_ads_mae_anom = np.mean(np.abs(df_ood_ads.query(\"surface_anomalies==0\")[\"dft_adsorption_energy\"] \n",
    "                                     - df_ood_ads.query(\"surface_anomalies==0\")[\"direct_ml_relax_ads_energy\"]))\n",
    "val_ood_ads_ads_mae_anom"
   ]
  },
  {
   "cell_type": "markdown",
   "id": "1f7dd62c",
   "metadata": {},
   "source": [
    "## Val-OOD-Cat"
   ]
  },
  {
   "cell_type": "code",
   "execution_count": 82,
   "id": "ae81b509",
   "metadata": {},
   "outputs": [
    {
     "data": {
      "text/plain": [
       "0.38513694671715343"
      ]
     },
     "execution_count": 82,
     "metadata": {},
     "output_type": "execute_result"
    }
   ],
   "source": [
    "val_ood_cat_ads_mae = np.mean(np.abs(df_ood_cat[\"dft_adsorption_energy\"] - df_ood_cat[\"direct_ml_relax_ads_energy\"]))\n",
    "val_ood_cat_ads_mae"
   ]
  },
  {
   "cell_type": "code",
   "execution_count": 83,
   "id": "14b85ba7",
   "metadata": {},
   "outputs": [
    {
     "data": {
      "text/plain": [
       "0.3333220986679203"
      ]
     },
     "execution_count": 83,
     "metadata": {},
     "output_type": "execute_result"
    }
   ],
   "source": [
    "val_ood_cat_ads_mae_anom = np.mean(np.abs(df_ood_cat.query(\"surface_anomalies==0\")[\"dft_adsorption_energy\"] - \n",
    "                                     df_ood_cat.query(\"surface_anomalies==0\")[\"direct_ml_relax_ads_energy\"]))\n",
    "val_ood_cat_ads_mae_anom"
   ]
  },
  {
   "cell_type": "markdown",
   "id": "d0f70120",
   "metadata": {},
   "source": [
    "## Val-OOD-Both"
   ]
  },
  {
   "cell_type": "code",
   "execution_count": 84,
   "id": "51f7b4ac",
   "metadata": {},
   "outputs": [
    {
     "data": {
      "text/plain": [
       "0.35363107546343975"
      ]
     },
     "execution_count": 84,
     "metadata": {},
     "output_type": "execute_result"
    }
   ],
   "source": [
    "val_ood_both_ads_mae = np.mean(np.abs(df_ood_both[\"dft_adsorption_energy\"] - df_ood_both[\"direct_ml_relax_ads_energy\"]))\n",
    "val_ood_both_ads_mae"
   ]
  },
  {
   "cell_type": "code",
   "execution_count": 85,
   "id": "4ddf4d6a",
   "metadata": {},
   "outputs": [
    {
     "data": {
      "text/plain": [
       "0.3257537960731673"
      ]
     },
     "execution_count": 85,
     "metadata": {},
     "output_type": "execute_result"
    }
   ],
   "source": [
    "val_ood_both_ads_mae_anom = np.mean(np.abs(df_ood_both.query(\"surface_anomalies==0\")[\"dft_adsorption_energy\"] - \n",
    "                                      df_ood_both.query(\"surface_anomalies==0\")[\"direct_ml_relax_ads_energy\"]))\n",
    "val_ood_both_ads_mae_anom"
   ]
  },
  {
   "cell_type": "code",
   "execution_count": 86,
   "id": "99abc02c",
   "metadata": {},
   "outputs": [],
   "source": [
    "names = [\"Val-ID\", \"Val-OOD-Ads\", \"Val-OOD-Cat\", \"Val-OOD-Both\"]\n",
    "val_ads_maes = [val_id_ads_mae,val_ood_ads_ads_mae,val_ood_cat_ads_mae,val_ood_both_ads_mae]\n",
    "val_ads_maes_anom = [val_id_ads_mae_anom,val_ood_ads_ads_mae_anom,\n",
    "                     val_ood_cat_ads_mae_anom,val_ood_both_ads_mae_anom]"
   ]
  },
  {
   "cell_type": "code",
   "execution_count": 87,
   "id": "ed4f086f",
   "metadata": {},
   "outputs": [
    {
     "data": {
      "text/html": [
       "<div>\n",
       "<style scoped>\n",
       "    .dataframe tbody tr th:only-of-type {\n",
       "        vertical-align: middle;\n",
       "    }\n",
       "\n",
       "    .dataframe tbody tr th {\n",
       "        vertical-align: top;\n",
       "    }\n",
       "\n",
       "    .dataframe thead th {\n",
       "        text-align: right;\n",
       "    }\n",
       "</style>\n",
       "<table border=\"1\" class=\"dataframe\">\n",
       "  <thead>\n",
       "    <tr style=\"text-align: right;\">\n",
       "      <th></th>\n",
       "      <th>Val-ID</th>\n",
       "      <th>Val-OOD-Ads</th>\n",
       "      <th>Val-OOD-Cat</th>\n",
       "      <th>Val-OOD-Both</th>\n",
       "    </tr>\n",
       "  </thead>\n",
       "  <tbody>\n",
       "    <tr>\n",
       "      <th>original</th>\n",
       "      <td>0.334536</td>\n",
       "      <td>0.364400</td>\n",
       "      <td>0.385137</td>\n",
       "      <td>0.353631</td>\n",
       "    </tr>\n",
       "    <tr>\n",
       "      <th>without anomalies</th>\n",
       "      <td>0.295139</td>\n",
       "      <td>0.321746</td>\n",
       "      <td>0.333322</td>\n",
       "      <td>0.325754</td>\n",
       "    </tr>\n",
       "  </tbody>\n",
       "</table>\n",
       "</div>"
      ],
      "text/plain": [
       "                     Val-ID  Val-OOD-Ads  Val-OOD-Cat  Val-OOD-Both\n",
       "original           0.334536     0.364400     0.385137      0.353631\n",
       "without anomalies  0.295139     0.321746     0.333322      0.325754"
      ]
     },
     "execution_count": 87,
     "metadata": {},
     "output_type": "execute_result"
    }
   ],
   "source": [
    "data = {\n",
    "    names[i]: [val_ads_maes[i], val_ads_maes_anom[i]] for i in range(len(names))\n",
    "}\n",
    "\n",
    "df = pd.DataFrame(data, index = [\"original\", \"without anomalies\"])\n",
    "df"
   ]
  },
  {
   "cell_type": "code",
   "execution_count": 88,
   "id": "d60ced90",
   "metadata": {},
   "outputs": [
    {
     "name": "stderr",
     "output_type": "stream",
     "text": [
      "100%|██████████| 24943/24943 [00:00<00:00, 258702.52it/s]\n",
      "100%|██████████| 24963/24963 [00:00<00:00, 314851.86it/s]\n",
      "100%|██████████| 24961/24961 [00:00<00:00, 370440.95it/s]\n",
      "100%|██████████| 24987/24987 [00:00<00:00, 349503.19it/s]\n"
     ]
    }
   ],
   "source": [
    "## MAE distribution of the MAEs\n",
    "for df in [df_val_id,df_ood_cat,df_ood_ads,df_ood_both]:\n",
    "    material_classes = []\n",
    "    for i in tqdm(df[\"sid\"].values):\n",
    "        sid = \"random\"+str(i)\n",
    "        material_classes.append(mappings[sid][\"class\"])\n",
    "    material_classes = np.array(material_classes)\n",
    "    # add system information to the dataframe\n",
    "    df[\"cat_class\"] = material_classes"
   ]
  },
  {
   "cell_type": "code",
   "execution_count": 89,
   "id": "e87e1455",
   "metadata": {},
   "outputs": [],
   "source": [
    "# regenrate the figure in Adeesh's paper on about the ML errors across the material classes\n",
    "val_id_dict = {}\n",
    "for material in [0,1,2,3]:\n",
    "    val_id_dict[material] = np.mean(np.abs(df_val_id.query(f\"cat_class=={material}\")[\"direct_ml_relax_ads_energy\"] \\\n",
    "                                             - df_val_id.query(f\"cat_class=={material}\")[\"dft_adsorption_energy\"]))\n",
    "val_ood_ads_dict = {}\n",
    "for material in [0,1,2,3]:\n",
    "    val_ood_ads_dict[material] = np.mean(np.abs(df_ood_ads.query(f\"cat_class=={material}\")[\"direct_ml_relax_ads_energy\"] \\\n",
    "                                             - df_ood_ads.query(f\"cat_class=={material}\")[\"dft_adsorption_energy\"]))\n",
    "val_ood_cat_dict = {}\n",
    "for material in [0,1,2,3]:\n",
    "    val_ood_cat_dict[material] = np.mean(np.abs(df_ood_cat.query(f\"cat_class=={material}\")[\"direct_ml_relax_ads_energy\"] \\\n",
    "                                             - df_ood_cat.query(f\"cat_class=={material}\")[\"dft_adsorption_energy\"]))\n",
    "val_ood_both_dict = {}\n",
    "for material in [0,1,2,3]:\n",
    "    val_ood_both_dict[material] = np.mean(np.abs(df_ood_both.query(f\"cat_class=={material}\")[\"direct_ml_relax_ads_energy\"] \\\n",
    "                                             - df_ood_both.query(f\"cat_class=={material}\")[\"dft_adsorption_energy\"]))"
   ]
  },
  {
   "cell_type": "code",
   "execution_count": 91,
   "id": "ef53e0e0",
   "metadata": {},
   "outputs": [
    {
     "data": {
      "image/png": "[encoded data removed]",
      "text/plain": [
       "<Figure size 640x480 with 1 Axes>"
      ]
     },
     "metadata": {},
     "output_type": "display_data"
    }
   ],
   "source": [
    "# Extract labels and mean values\n",
    "materials = [\"intermetallics\", \"metalloids\", \"nonmetals\", \"halides\"]\n",
    "labels = list(val_id_dict.keys())\n",
    "x = np.arange(len(labels))  # the label locations\n",
    "width = 0.2  # the width of the bars\n",
    "\n",
    "fig, ax = plt.subplots()\n",
    "rects1 = ax.bar(x - width, list(val_id_dict.values()), width, label='val-ID')\n",
    "rects2 = ax.bar(x, list(val_ood_ads_dict.values()), width, label='val-OOD-Ads')\n",
    "rects3 = ax.bar(x + width, list(val_ood_cat_dict.values()), width, label='val-OOD-Cat')\n",
    "rects4 = ax.bar(x + 2*width, list(val_ood_both_dict.values()), width, label='val-OOD-Both')\n",
    "\n",
    "# Add legend\n",
    "ax.legend()\n",
    "\n",
    "# Add labels and title\n",
    "ax.set_ylabel('Adsorption Energy MAE (eV)')\n",
    "ax.set_title('Gemnet-OC OC20+OC22 Direct ML adsorption energy MAEs')\n",
    "ax.set_xticks(x)\n",
    "ax.set_xticklabels(materials)\n",
    "\n",
    "plt.show()"
   ]
  },
  {
   "cell_type": "markdown",
   "id": "cd45191a",
   "metadata": {},
   "source": [
    "## Without surface reconstructions: "
   ]
  },
  {
   "cell_type": "code",
   "execution_count": 93,
   "id": "bbb11425",
   "metadata": {},
   "outputs": [],
   "source": [
    "# regenrate the figure in Adeesh's paper on about the ML errors across the material classes\n",
    "val_id_dict = {}\n",
    "for material in [0,1,2,3]:\n",
    "    val_id_dict[material] = np.mean(np.abs(df_val_id.query(f\"cat_class=={material}&surface_anomalies==0\")[\"direct_ml_relax_ads_energy\"] \\\n",
    "                                             - df_val_id.query(f\"cat_class=={material}&surface_anomalies==0\")[\"dft_adsorption_energy\"]))\n",
    "val_ood_ads_dict = {}\n",
    "for material in [0,1,2,3]:\n",
    "    val_ood_ads_dict[material] = np.mean(np.abs(df_ood_ads.query(f\"cat_class=={material}&surface_anomalies==0\")[\"direct_ml_relax_ads_energy\"] \\\n",
    "                                             - df_ood_ads.query(f\"cat_class=={material}&surface_anomalies==0\")[\"dft_adsorption_energy\"]))\n",
    "val_ood_cat_dict = {}\n",
    "for material in [0,1,2,3]:\n",
    "    val_ood_cat_dict[material] = np.mean(np.abs(df_ood_cat.query(f\"cat_class=={material}&surface_anomalies==0\")[\"direct_ml_relax_ads_energy\"] \\\n",
    "                                             - df_ood_cat.query(f\"cat_class=={material}&surface_anomalies==0\")[\"dft_adsorption_energy\"]))\n",
    "val_ood_both_dict = {}\n",
    "for material in [0,1,2,3]:\n",
    "    val_ood_both_dict[material] = np.mean(np.abs(df_ood_both.query(f\"cat_class=={material}&surface_anomalies==0\")[\"direct_ml_relax_ads_energy\"] \\\n",
    "                                             - df_ood_both.query(f\"cat_class=={material}&surface_anomalies==0\")[\"dft_adsorption_energy\"]))"
   ]
  },
  {
   "cell_type": "code",
   "execution_count": 94,
   "id": "bf30bc4c",
   "metadata": {},
   "outputs": [
    {
     "data": {
      "image/png": "[encoded data removed]",
      "text/plain": [
       "<Figure size 640x480 with 1 Axes>"
      ]
     },
     "metadata": {},
     "output_type": "display_data"
    }
   ],
   "source": [
    "# Extract labels and mean values\n",
    "materials = [\"intermetallics\", \"metalloids\", \"nonmetals\", \"halides\"]\n",
    "labels = list(val_id_dict.keys())\n",
    "x = np.arange(len(labels))  # the label locations\n",
    "width = 0.2  # the width of the bars\n",
    "\n",
    "fig, ax = plt.subplots()\n",
    "rects1 = ax.bar(x - width, list(val_id_dict.values()), width, label='val-ID')\n",
    "rects2 = ax.bar(x, list(val_ood_ads_dict.values()), width, label='val-OOD-Ads')\n",
    "rects3 = ax.bar(x + width, list(val_ood_cat_dict.values()), width, label='val-OOD-Cat')\n",
    "rects4 = ax.bar(x + 2*width, list(val_ood_both_dict.values()), width, label='val-OOD-Both')\n",
    "\n",
    "# Add legend\n",
    "ax.legend()\n",
    "\n",
    "# Add labels and title\n",
    "ax.set_ylabel('Adsorption Energy MAE (eV)')\n",
    "ax.set_title('Gemnet-OC OC20+OC22 Direct ML adsorption energy MAEs')\n",
    "ax.set_xticks(x)\n",
    "ax.set_xticklabels(materials)\n",
    "\n",
    "plt.show()"
   ]
  },
  {
   "cell_type": "code",
   "execution_count": null,
   "id": "b2ecbbc1",
   "metadata": {},
   "outputs": [],
   "source": []
  }
 ],
 "metadata": {
  "kernelspec": {
   "display_name": "Python 3 (ipykernel)",
   "language": "python",
   "name": "python3"
  },
  "language_info": {
   "codemirror_mode": {
    "name": "ipython",
    "version": 3
   },
   "file_extension": ".py",
   "mimetype": "text/x-python",
   "name": "python",
   "nbconvert_exporter": "python",
   "pygments_lexer": "ipython3",
   "version": "3.9.15"
  }
 },
 "nbformat": 4,
 "nbformat_minor": 5
}
