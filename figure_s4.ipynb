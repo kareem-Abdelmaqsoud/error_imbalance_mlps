{
 "cells": [
  {
   "cell_type": "code",
   "execution_count": 15,
   "metadata": {},
   "outputs": [],
   "source": [
    "import pickle\n",
    "import numpy as np\n",
    "import pandas as pd\n",
    "from tqdm import tqdm\n",
    "import matplotlib.pyplot as plt\n",
    "import warnings\n",
    "warnings.filterwarnings(\"ignore\")"
   ]
  },
  {
   "cell_type": "code",
   "execution_count": 4,
   "metadata": {},
   "outputs": [],
   "source": [
    "## get mappings of sid (a random number) to systems (adslabs) that are in the OC20 dataset \n",
    "with open(\"oc20_data_mapping.pkl\", \"rb\") as input_file:\n",
    "    mappings = pickle.load(input_file)"
   ]
  },
  {
   "cell_type": "code",
   "execution_count": 18,
   "metadata": {},
   "outputs": [],
   "source": [
    "# load the surface sid: surface anomalies binary vector for each val set\n",
    "df_val_id_anom = pd.read_csv(\"is2re_val_sets_anom/is2re_val_id_surf_anom.csv\", index_col=0)\n",
    "df_ood_ads_anom = pd.read_csv(\"is2re_val_sets_anom/is2re_val_ood_ads_surf_anom.csv\", index_col=0)\n",
    "df_ood_cat_anom = pd.read_csv(\"is2re_val_sets_anom/is2re_val_ood_cat_surf_anom.csv\", index_col=0)\n",
    "df_ood_both_anom = pd.read_csv(\"is2re_val_sets_anom/is2re_val_ood_both_surf_anom.csv\", index_col=0)"
   ]
  },
  {
   "cell_type": "code",
   "execution_count": 3,
   "metadata": {},
   "outputs": [],
   "source": [
    "# load the is2re val sets with the DFT energies\n",
    "df_val_id = pd.read_csv(\"is2re_val_sets/is2re_val_id.csv\", index_col=0)\n",
    "df_ood_ads = pd.read_csv(\"is2re_val_sets/is2re_val_ood_ads.csv\", index_col=0)\n",
    "df_ood_cat = pd.read_csv(\"is2re_val_sets/is2re_val_ood_cat.csv\", index_col=0)\n",
    "df_ood_both = pd.read_csv(\"is2re_val_sets/is2re_val_ood_both.csv\", index_col=0)"
   ]
  },
  {
   "cell_type": "code",
   "execution_count": 19,
   "metadata": {},
   "outputs": [
    {
     "name": "stderr",
     "output_type": "stream",
     "text": [
      "100%|██████████| 24943/24943 [00:12<00:00, 1979.55it/s]\n",
      "100%|██████████| 24961/24961 [00:12<00:00, 2025.51it/s]\n",
      "100%|██████████| 24963/24963 [00:12<00:00, 2029.70it/s]\n",
      "100%|██████████| 24987/24987 [00:12<00:00, 2013.34it/s]\n"
     ]
    }
   ],
   "source": [
    "for df, df_anom in [(df_val_id,df_val_id_anom),(df_ood_ads,df_ood_ads_anom),\n",
    "                    (df_ood_cat,df_ood_cat_anom),(df_ood_both,df_ood_both_anom)]:\n",
    "    sorted_surf_anom = []\n",
    "    for sid in tqdm(df[\"sid\"].values):\n",
    "        sid = \"random\" + str(sid)\n",
    "        surf_anomalies = df_anom[\"surface_anomalies\"].values\n",
    "        sorted_surf_anom.append(surf_anomalies[np.where(df_anom[\"sid\"].values==sid)[0][0]])\n",
    "    df[\"surface_anomalies\"] = sorted_surf_anom"
   ]
  },
  {
   "cell_type": "code",
   "execution_count": 20,
   "metadata": {},
   "outputs": [],
   "source": [
    "# pick only systems without recontructions\n",
    "df_val_id = df_val_id.query(\"surface_anomalies==0\")\n",
    "df_ood_ads = df_ood_ads.query(\"surface_anomalies==0\")\n",
    "df_ood_cat = df_ood_cat.query(\"surface_anomalies==0\")\n",
    "df_ood_both = df_ood_both.query(\"surface_anomalies==0\")"
   ]
  },
  {
   "cell_type": "code",
   "execution_count": 5,
   "metadata": {},
   "outputs": [
    {
     "name": "stderr",
     "output_type": "stream",
     "text": [
      "100%|██████████| 24943/24943 [00:00<00:00, 299898.02it/s]\n",
      "100%|██████████| 24963/24963 [00:00<00:00, 518095.37it/s]\n",
      "100%|██████████| 24961/24961 [00:00<00:00, 557853.41it/s]\n",
      "100%|██████████| 24987/24987 [00:00<00:00, 495632.95it/s]\n"
     ]
    }
   ],
   "source": [
    "## MAE distribution of the MAEs\n",
    "for df in [df_val_id,df_ood_cat,df_ood_ads,df_ood_both]:\n",
    "    material_classes = []\n",
    "    for i in tqdm(df[\"sid\"].values):\n",
    "        sid = \"random\"+str(i)\n",
    "        material_classes.append(mappings[sid][\"class\"])\n",
    "    material_classes = np.array(material_classes)\n",
    "    # add system information to the dataframe\n",
    "    df[\"cat_class\"] = material_classes"
   ]
  },
  {
   "cell_type": "code",
   "execution_count": 12,
   "metadata": {},
   "outputs": [],
   "source": [
    "df_val_id[\"ml_relax_ads_energy\"] = df_val_id[\"ml_relax_total_energy\"] \\\n",
    "                                    - df_val_id[\"ml_relax_slab_energy\"] \\\n",
    "                                    - df_val_id[\"dft_adsorbate_energy\"]\n",
    "df_ood_ads[\"ml_relax_ads_energy\"] = df_ood_ads[\"ml_relax_total_energy\"] \\\n",
    "                                    - df_ood_ads[\"ml_relax_slab_energy\"] \\\n",
    "                                    - df_ood_ads[\"dft_adsorbate_energy\"]\n",
    "df_ood_cat[\"ml_relax_ads_energy\"] = df_ood_cat[\"ml_relax_total_energy\"] \\\n",
    "                                    - df_ood_cat[\"ml_relax_slab_energy\"] \\\n",
    "                                    - df_ood_cat[\"dft_adsorbate_energy\"]\n",
    "df_ood_both[\"ml_relax_ads_energy\"] = df_ood_both[\"ml_relax_total_energy\"]\\\n",
    "                                    - df_ood_both[\"ml_relax_slab_energy\"]\\\n",
    "                                    - df_ood_both[\"dft_adsorbate_energy\"]"
   ]
  },
  {
   "cell_type": "code",
   "execution_count": 21,
   "metadata": {},
   "outputs": [],
   "source": [
    "# regenrate the figure in Adeesh's paper on about the ML errors across the material classes\n",
    "val_id_dict = {}\n",
    "for material in [0,1,2,3]:\n",
    "    val_id_dict[material] = np.mean(np.abs(df_val_id.query(f\"cat_class=={material}\")[\"ml_relax_ads_energy\"] \\\n",
    "                                             - df_val_id.query(f\"cat_class=={material}\")[\"dft_adsorption_energy\"]))\n",
    "val_ood_ads_dict = {}\n",
    "for material in [0,1,2,3]:\n",
    "    val_ood_ads_dict[material] = np.mean(np.abs(df_ood_ads.query(f\"cat_class=={material}\")[\"ml_relax_ads_energy\"] \\\n",
    "                                             - df_ood_ads.query(f\"cat_class=={material}\")[\"dft_adsorption_energy\"]))\n",
    "val_ood_cat_dict = {}\n",
    "for material in [0,1,2,3]:\n",
    "    val_ood_cat_dict[material] = np.mean(np.abs(df_ood_cat.query(f\"cat_class=={material}\")[\"ml_relax_ads_energy\"] \\\n",
    "                                             - df_ood_cat.query(f\"cat_class=={material}\")[\"dft_adsorption_energy\"]))\n",
    "val_ood_both_dict = {}\n",
    "for material in [0,1,2,3]:\n",
    "    val_ood_both_dict[material] = np.mean(np.abs(df_ood_both.query(f\"cat_class=={material}\")[\"ml_relax_ads_energy\"] \\\n",
    "                                             - df_ood_both.query(f\"cat_class=={material}\")[\"dft_adsorption_energy\"]))"
   ]
  },
  {
   "cell_type": "code",
   "execution_count": 22,
   "metadata": {},
   "outputs": [
    {
     "data": {
      "image/png": "[encoded data removed]",
      "text/plain": [
       "<Figure size 640x480 with 1 Axes>"
      ]
     },
     "metadata": {},
     "output_type": "display_data"
    }
   ],
   "source": [
    "# Extract labels and mean values\n",
    "materials = [\"intermetallics\", \"metalloids\", \"nonmetals\", \"halides\"]\n",
    "labels = list(val_id_dict.keys())\n",
    "x = np.arange(len(labels))  # the label locations\n",
    "width = 0.2  # the width of the bars\n",
    "\n",
    "fig, ax = plt.subplots()\n",
    "rects1 = ax.bar(x - width, list(val_id_dict.values()), width, label='val-ID')\n",
    "rects2 = ax.bar(x, list(val_ood_ads_dict.values()), width, label='val-OOD-Ads')\n",
    "rects3 = ax.bar(x + width, list(val_ood_cat_dict.values()), width, label='val-OOD-Cat')\n",
    "rects4 = ax.bar(x + 2*width, list(val_ood_both_dict.values()), width, label='val-OOD-Both')\n",
    "\n",
    "# Add legend\n",
    "ax.legend()\n",
    "\n",
    "# Add labels and title\n",
    "ax.set_ylabel('Adsorption Energy MAE (eV)')\n",
    "ax.set_title('Gemnet-OC OC20+OC22 Full ML adsorption energy MAEs')\n",
    "ax.set_xticks(x)\n",
    "ax.set_xticklabels(materials)\n",
    "\n",
    "plt.show()"
   ]
  },
  {
   "cell_type": "code",
   "execution_count": null,
   "metadata": {},
   "outputs": [],
   "source": []
  }
 ],
 "metadata": {
  "kernelspec": {
   "display_name": "base",
   "language": "python",
   "name": "python3"
  },
  "language_info": {
   "codemirror_mode": {
    "name": "ipython",
    "version": 3
   },
   "file_extension": ".py",
   "mimetype": "text/x-python",
   "name": "python",
   "nbconvert_exporter": "python",
   "pygments_lexer": "ipython3",
   "version": "3.9.15"
  }
 },
 "nbformat": 4,
 "nbformat_minor": 2
}
